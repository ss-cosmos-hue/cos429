{
 "cells": [
  {
   "attachments": {},
   "cell_type": "markdown",
   "metadata": {},
   "source": [
    "# Preparation"
   ]
  },
  {
   "cell_type": "code",
   "execution_count": 9,
   "metadata": {},
   "outputs": [
    {
     "name": "stdout",
     "output_type": "stream",
     "text": [
      "The autoreload extension is already loaded. To reload it, use:\n",
      "  %reload_ext autoreload\n"
     ]
    }
   ],
   "source": [
    "#dataload\n",
    "from data_utils import load_CIFAR_batch,load_CIFAR10,get_CIFAR10_data\n",
    "import sys\n",
    "sys.path += ['layers']\n",
    "import numpy as np\n",
    "from init_layers import init_layers\n",
    "from init_model import init_model\n",
    "from train import train \n",
    "from test import test\n",
    "%load_ext autoreload\n",
    "%autoreload 2"
   ]
  },
  {
   "cell_type": "code",
   "execution_count": 10,
   "metadata": {},
   "outputs": [
    {
     "name": "stdout",
     "output_type": "stream",
     "text": [
      "Train data shape:  (32, 32, 3, 50000)\n",
      "Train labels shape:  (50000,)\n",
      "Test data shape:  (32, 32, 3, 10000)\n",
      "Test labels shape:  (10000,)\n"
     ]
    }
   ],
   "source": [
    "X_train, y_train, X_test, y_test = get_CIFAR10_data()"
   ]
  },
  {
   "cell_type": "code",
   "execution_count": 11,
   "metadata": {},
   "outputs": [
    {
     "data": {
      "text/plain": [
       "array([[-1.05274272,  0.45555291,  2.05910931, ..., -1.43378582,\n",
       "         1.01124077,  1.64631261],\n",
       "       [-0.9837973 ,  0.87208908,  2.1308642 , ...,  0.88822723,\n",
       "         1.42078593,  1.71127249],\n",
       "       [-0.76414244,  1.09897829,  2.12068966, ...,  1.82018631,\n",
       "         1.89531215,  1.88028698]])"
      ]
     },
     "execution_count": 11,
     "metadata": {},
     "output_type": "execute_result"
    }
   ],
   "source": [
    "X_train[0][0]"
   ]
  },
  {
   "cell_type": "code",
   "execution_count": 12,
   "metadata": {},
   "outputs": [
    {
     "data": {
      "text/plain": [
       "array([6, 9, 9, ..., 9, 1, 1])"
      ]
     },
     "execution_count": 12,
     "metadata": {},
     "output_type": "execute_result"
    }
   ],
   "source": [
    "y_train"
   ]
  },
  {
   "attachments": {},
   "cell_type": "markdown",
   "metadata": {},
   "source": [
    "# Model 1\n",
    "\n",
    "CONV(2, 3, 2)\n",
    "\n",
    "POOL(2, 2)\n",
    "\n",
    "RELU\n",
    "\n",
    "FLATTEN\n",
    "\n",
    "LINEAR(450, 10)\n",
    "\n",
    "SOFTMAX"
   ]
  },
  {
   "cell_type": "code",
   "execution_count": 13,
   "metadata": {},
   "outputs": [
    {
     "name": "stdout",
     "output_type": "stream",
     "text": [
      "Input size:\n",
      "[32, 32, 3]\n",
      "Layer 0 output size: \n",
      "(31, 31, 2)\n",
      "Layer 1 output size: \n",
      "(15, 15, 2)\n",
      "Layer 2 output size: \n",
      "(15, 15, 2)\n",
      "Layer 3 output size: \n",
      "(450,)\n",
      "Layer 4 output size: \n",
      "(10,)\n",
      "Final output size:\n",
      "(10,)\n",
      "Provided output size (should match above):\n",
      "10\n",
      "(Batch dimension not included)\n"
     ]
    }
   ],
   "source": [
    "l1 = [init_layers('conv', {'filter_size': 2,\n",
    "                        'filter_depth': 3,\n",
    "                        'num_filters': 2}),\n",
    "    init_layers('pool', {'filter_size': 2,\n",
    "                        'stride': 2}),\n",
    "    init_layers('relu', {}),\n",
    "    init_layers('flatten', {}),\n",
    "    init_layers('linear', {'num_in': 450,\n",
    "                            'num_out': 10}),\n",
    "    init_layers('softmax', {})]\n",
    "\n",
    "model1 = init_model(l1, [32, 32, 3], 10, True)"
   ]
  },
  {
   "attachments": {},
   "cell_type": "markdown",
   "metadata": {},
   "source": [
    "## Parameter Set 1\n",
    "\n",
    "Learning Rate: 1e-3\n",
    "\n",
    "Weight Decay: 1e-3\n",
    "\n",
    "Batch Size: 128"
   ]
  },
  {
   "cell_type": "code",
   "execution_count": 14,
   "metadata": {},
   "outputs": [
    {
     "name": "stdout",
     "output_type": "stream",
     "text": [
      "Iteration:  0 \tAccuracy:  0.0859375 \tLoss:  2.5076652286006254\n",
      "Iteration:  10 \tAccuracy:  0.0546875 \tLoss:  2.381449948465937\n",
      "Iteration:  20 \tAccuracy:  0.0703125 \tLoss:  2.3751089313217495\n",
      "Iteration:  30 \tAccuracy:  0.0859375 \tLoss:  2.365485778636203\n",
      "Iteration:  40 \tAccuracy:  0.078125 \tLoss:  2.36327977792361\n",
      "Iteration:  50 \tAccuracy:  0.0625 \tLoss:  2.3535791137012936\n",
      "Iteration:  60 \tAccuracy:  0.140625 \tLoss:  2.3099718451464217\n",
      "Iteration:  70 \tAccuracy:  0.09375 \tLoss:  2.304479357150437\n",
      "Iteration:  80 \tAccuracy:  0.0546875 \tLoss:  2.3254004947366607\n",
      "Iteration:  90 \tAccuracy:  0.0859375 \tLoss:  2.3573729495769484\n",
      "Iteration:  100 \tAccuracy:  0.0859375 \tLoss:  2.3449474334604714\n",
      "Iteration:  110 \tAccuracy:  0.078125 \tLoss:  2.304250314112174\n",
      "Iteration:  120 \tAccuracy:  0.09375 \tLoss:  2.344143281934115\n",
      "Iteration:  130 \tAccuracy:  0.1328125 \tLoss:  2.3069347288922364\n",
      "Iteration:  140 \tAccuracy:  0.109375 \tLoss:  2.3165565678211495\n",
      "Iteration:  150 \tAccuracy:  0.109375 \tLoss:  2.3051270401254227\n",
      "Iteration:  160 \tAccuracy:  0.1015625 \tLoss:  2.313229064624903\n",
      "Iteration:  170 \tAccuracy:  0.0625 \tLoss:  2.3194279982427486\n",
      "Iteration:  180 \tAccuracy:  0.109375 \tLoss:  2.3205780571647825\n",
      "Iteration:  190 \tAccuracy:  0.0625 \tLoss:  2.331690336554167\n",
      "Iteration:  200 \tAccuracy:  0.0625 \tLoss:  2.3380479707859103\n",
      "Iteration:  210 \tAccuracy:  0.09375 \tLoss:  2.304205690695277\n",
      "Iteration:  220 \tAccuracy:  0.0703125 \tLoss:  2.3290497763337634\n",
      "Iteration:  230 \tAccuracy:  0.0625 \tLoss:  2.3370567264839837\n",
      "Iteration:  240 \tAccuracy:  0.1328125 \tLoss:  2.3188728666386087\n",
      "Iteration:  250 \tAccuracy:  0.125 \tLoss:  2.314337054903649\n",
      "Iteration:  260 \tAccuracy:  0.0859375 \tLoss:  2.303877503472125\n",
      "Iteration:  270 \tAccuracy:  0.09375 \tLoss:  2.3271698806390435\n",
      "Iteration:  280 \tAccuracy:  0.109375 \tLoss:  2.3273907217142273\n",
      "Iteration:  290 \tAccuracy:  0.1171875 \tLoss:  2.323417552123402\n",
      "Iteration:  300 \tAccuracy:  0.0546875 \tLoss:  2.3180078980575787\n",
      "Iteration:  310 \tAccuracy:  0.09375 \tLoss:  2.315359076403384\n",
      "Iteration:  320 \tAccuracy:  0.078125 \tLoss:  2.3204006251395155\n",
      "Iteration:  330 \tAccuracy:  0.1015625 \tLoss:  2.3056865914922953\n",
      "Iteration:  340 \tAccuracy:  0.109375 \tLoss:  2.3218251471136666\n",
      "Iteration:  350 \tAccuracy:  0.078125 \tLoss:  2.3108515531901417\n",
      "Iteration:  360 \tAccuracy:  0.109375 \tLoss:  2.2888447204642857\n",
      "Iteration:  370 \tAccuracy:  0.078125 \tLoss:  2.318900939472411\n",
      "Iteration:  380 \tAccuracy:  0.1171875 \tLoss:  2.3046053122566104\n",
      "Iteration:  390 \tAccuracy:  0.140625 \tLoss:  2.3192892433097576\n",
      "Iteration:  400 \tAccuracy:  0.125 \tLoss:  2.289964869800495\n",
      "Iteration:  410 \tAccuracy:  0.0703125 \tLoss:  2.296540400510988\n",
      "Iteration:  420 \tAccuracy:  0.109375 \tLoss:  2.3131298680031316\n",
      "Iteration:  430 \tAccuracy:  0.125 \tLoss:  2.3058552614017827\n",
      "Iteration:  440 \tAccuracy:  0.15625 \tLoss:  2.3038818650604234\n",
      "Iteration:  450 \tAccuracy:  0.0859375 \tLoss:  2.3036833040925497\n",
      "Iteration:  460 \tAccuracy:  0.125 \tLoss:  2.3060070658309195\n",
      "Iteration:  470 \tAccuracy:  0.1328125 \tLoss:  2.3016689644079884\n",
      "Iteration:  480 \tAccuracy:  0.109375 \tLoss:  2.3023922434993103\n",
      "Iteration:  490 \tAccuracy:  0.125 \tLoss:  2.297160176328306\n",
      "Iteration:  500 \tAccuracy:  0.09375 \tLoss:  2.2984397938224186\n",
      "Iteration:  510 \tAccuracy:  0.09375 \tLoss:  2.300763454404426\n",
      "Iteration:  520 \tAccuracy:  0.1015625 \tLoss:  2.2938018192172205\n",
      "Iteration:  530 \tAccuracy:  0.0703125 \tLoss:  2.3098468226249866\n",
      "Iteration:  540 \tAccuracy:  0.0859375 \tLoss:  2.299393449192178\n",
      "Iteration:  550 \tAccuracy:  0.0859375 \tLoss:  2.307706037881439\n",
      "Iteration:  560 \tAccuracy:  0.0859375 \tLoss:  2.313723302578116\n",
      "Iteration:  570 \tAccuracy:  0.078125 \tLoss:  2.3008732495705786\n",
      "Iteration:  580 \tAccuracy:  0.109375 \tLoss:  2.304508749508267\n",
      "Iteration:  590 \tAccuracy:  0.1484375 \tLoss:  2.301872706130355\n",
      "Iteration:  600 \tAccuracy:  0.1171875 \tLoss:  2.2913560093457623\n",
      "Iteration:  610 \tAccuracy:  0.046875 \tLoss:  2.311544513158151\n",
      "Iteration:  620 \tAccuracy:  0.0390625 \tLoss:  2.3071278333677903\n",
      "Iteration:  630 \tAccuracy:  0.1171875 \tLoss:  2.3091664864552035\n",
      "Iteration:  640 \tAccuracy:  0.109375 \tLoss:  2.291214880873926\n",
      "Iteration:  650 \tAccuracy:  0.1015625 \tLoss:  2.2953026370453875\n",
      "Iteration:  660 \tAccuracy:  0.1328125 \tLoss:  2.294234816028296\n",
      "Iteration:  670 \tAccuracy:  0.140625 \tLoss:  2.2984352403560706\n",
      "Iteration:  680 \tAccuracy:  0.1015625 \tLoss:  2.307126133214357\n",
      "Iteration:  690 \tAccuracy:  0.109375 \tLoss:  2.2942270570496164\n",
      "Iteration:  700 \tAccuracy:  0.15625 \tLoss:  2.293046210445934\n",
      "Iteration:  710 \tAccuracy:  0.1171875 \tLoss:  2.2896673330864803\n",
      "Iteration:  720 \tAccuracy:  0.171875 \tLoss:  2.2879766810914988\n",
      "Iteration:  730 \tAccuracy:  0.140625 \tLoss:  2.2811566729832\n",
      "Iteration:  740 \tAccuracy:  0.1015625 \tLoss:  2.3000705500630527\n",
      "Iteration:  750 \tAccuracy:  0.140625 \tLoss:  2.2780033271603166\n",
      "Iteration:  760 \tAccuracy:  0.125 \tLoss:  2.3019021769958794\n",
      "Iteration:  770 \tAccuracy:  0.1328125 \tLoss:  2.2937690234222003\n",
      "Iteration:  780 \tAccuracy:  0.1328125 \tLoss:  2.285424152656133\n",
      "Iteration:  790 \tAccuracy:  0.15625 \tLoss:  2.269354230814736\n",
      "Iteration:  800 \tAccuracy:  0.1328125 \tLoss:  2.293134046925545\n",
      "Iteration:  810 \tAccuracy:  0.1171875 \tLoss:  2.303158111696437\n",
      "Iteration:  820 \tAccuracy:  0.0859375 \tLoss:  2.306970765642694\n",
      "Iteration:  830 \tAccuracy:  0.0625 \tLoss:  2.3012156919452424\n",
      "Iteration:  840 \tAccuracy:  0.1171875 \tLoss:  2.2838472277978297\n",
      "Iteration:  850 \tAccuracy:  0.1171875 \tLoss:  2.2999630705624345\n",
      "Iteration:  860 \tAccuracy:  0.125 \tLoss:  2.28538427001004\n",
      "Iteration:  870 \tAccuracy:  0.15625 \tLoss:  2.303702562610301\n",
      "Iteration:  880 \tAccuracy:  0.1328125 \tLoss:  2.2868186144097082\n",
      "Iteration:  890 \tAccuracy:  0.1171875 \tLoss:  2.293058749231867\n",
      "Iteration:  900 \tAccuracy:  0.125 \tLoss:  2.2809984637421983\n",
      "Iteration:  910 \tAccuracy:  0.1484375 \tLoss:  2.2879524491980114\n",
      "Iteration:  920 \tAccuracy:  0.1015625 \tLoss:  2.3052940397506054\n",
      "Iteration:  930 \tAccuracy:  0.09375 \tLoss:  2.285258024001732\n",
      "Iteration:  940 \tAccuracy:  0.1328125 \tLoss:  2.294478409008744\n",
      "Iteration:  950 \tAccuracy:  0.1484375 \tLoss:  2.273911665930742\n",
      "Iteration:  960 \tAccuracy:  0.1171875 \tLoss:  2.294467443331526\n",
      "Iteration:  970 \tAccuracy:  0.046875 \tLoss:  2.320864151111496\n",
      "Iteration:  980 \tAccuracy:  0.109375 \tLoss:  2.299236077132635\n",
      "Iteration:  990 \tAccuracy:  0.09375 \tLoss:  2.2976478810835594\n"
     ]
    }
   ],
   "source": [
    "params =  {\"learning_rate\":1e-3,\n",
    "            \"weight_decay\":1e-3,\n",
    "            \"batch_size\":128,\n",
    "            \"save_file\":'model1.npz',\n",
    "            \"print_step\" : 10}\n",
    "#train\n",
    "model_result,loss = train(model1, X_train, y_train, params, numIters=1000)"
   ]
  },
  {
   "cell_type": "code",
   "execution_count": 15,
   "metadata": {},
   "outputs": [
    {
     "name": "stdout",
     "output_type": "stream",
     "text": [
      "0.1198 2.2895706837459198\n"
     ]
    }
   ],
   "source": [
    "#test\n",
    "accuracy,loss = test(model_result,X_test,y_test)\n",
    "print(accuracy, loss)"
   ]
  },
  {
   "cell_type": "code",
   "execution_count": 16,
   "metadata": {},
   "outputs": [],
   "source": [
    "np.savez('model1_p1.npz', **model_result)"
   ]
  },
  {
   "attachments": {},
   "cell_type": "markdown",
   "metadata": {},
   "source": [
    "## Parameter Set 2\n",
    "\n",
    "Learning Rate: 1e-5\n",
    "\n",
    "Weight Decay: 1e-4\n",
    "\n",
    "Batch Size: 128"
   ]
  },
  {
   "cell_type": "code",
   "execution_count": null,
   "metadata": {},
   "outputs": [],
   "source": [
    "params =  {\"learning_rate\":1e-3,\n",
    "            \"weight_decay\":1e-3,\n",
    "            \"batch_size\":128,\n",
    "            \"save_file\":'model1.npz',\n",
    "            \"print_step\" : 10}\n",
    "#train\n",
    "model_result,loss = train(model1, X_train, y_train, params, numIters=1000)"
   ]
  },
  {
   "cell_type": "code",
   "execution_count": null,
   "metadata": {},
   "outputs": [],
   "source": [
    "#test\n",
    "accuracy,loss = test(model_result,X_test,y_test)\n",
    "print(accuracy, loss)"
   ]
  },
  {
   "cell_type": "code",
   "execution_count": null,
   "metadata": {},
   "outputs": [],
   "source": [
    "np.savez('model1_p2.npz', **model_result)"
   ]
  },
  {
   "attachments": {},
   "cell_type": "markdown",
   "metadata": {},
   "source": [
    "# Model 2\n",
    "\n",
    "CONV(2, 3, 2)\n",
    "\n",
    "CONV(2, 3, 2)\n",
    "\n",
    "POOL(2, 2)\n",
    "\n",
    "RELU\n",
    "\n",
    "FLATTEN\n",
    "\n",
    "LINEAR(450, 10)\n",
    "\n",
    "SOFTMAX"
   ]
  },
  {
   "cell_type": "code",
   "execution_count": 17,
   "metadata": {},
   "outputs": [
    {
     "ename": "AssertionError",
     "evalue": "Filter depth does not match number of input channels",
     "output_type": "error",
     "traceback": [
      "\u001b[1;31m---------------------------------------------------------------------------\u001b[0m",
      "\u001b[1;31mAssertionError\u001b[0m                            Traceback (most recent call last)",
      "\u001b[1;32m<ipython-input-17-c2aeb1bf2f40>\u001b[0m in \u001b[0;36m<module>\u001b[1;34m\u001b[0m\n\u001b[0;32m     13\u001b[0m     init_layers('softmax', {})]\n\u001b[0;32m     14\u001b[0m \u001b[1;33m\u001b[0m\u001b[0m\n\u001b[1;32m---> 15\u001b[1;33m \u001b[0mmodel2\u001b[0m \u001b[1;33m=\u001b[0m \u001b[0minit_model\u001b[0m\u001b[1;33m(\u001b[0m\u001b[0ml2\u001b[0m\u001b[1;33m,\u001b[0m \u001b[1;33m[\u001b[0m\u001b[1;36m32\u001b[0m\u001b[1;33m,\u001b[0m \u001b[1;36m32\u001b[0m\u001b[1;33m,\u001b[0m \u001b[1;36m3\u001b[0m\u001b[1;33m]\u001b[0m\u001b[1;33m,\u001b[0m \u001b[1;36m10\u001b[0m\u001b[1;33m,\u001b[0m \u001b[1;32mTrue\u001b[0m\u001b[1;33m)\u001b[0m\u001b[1;33m\u001b[0m\u001b[1;33m\u001b[0m\u001b[0m\n\u001b[0m",
      "\u001b[1;32mc:\\Users\\drewc\\Documents\\GitHub\\cos429\\assignment3\\initial\\init_model.py\u001b[0m in \u001b[0;36minit_model\u001b[1;34m(layers, input_size, output_size, display)\u001b[0m\n\u001b[0;32m     22\u001b[0m     \u001b[0minput5\u001b[0m \u001b[1;33m=\u001b[0m \u001b[0mnp\u001b[0m\u001b[1;33m.\u001b[0m\u001b[0mrandom\u001b[0m\u001b[1;33m.\u001b[0m\u001b[0mrand\u001b[0m\u001b[1;33m(\u001b[0m\u001b[1;33m*\u001b[0m\u001b[1;33m(\u001b[0m\u001b[0minput_size\u001b[0m \u001b[1;33m+\u001b[0m \u001b[1;33m[\u001b[0m\u001b[1;36m5\u001b[0m\u001b[1;33m]\u001b[0m\u001b[1;33m)\u001b[0m\u001b[1;33m)\u001b[0m\u001b[1;33m\u001b[0m\u001b[1;33m\u001b[0m\u001b[0m\n\u001b[0;32m     23\u001b[0m \u001b[1;33m\u001b[0m\u001b[0m\n\u001b[1;32m---> 24\u001b[1;33m     \u001b[0moutput1\u001b[0m\u001b[1;33m,\u001b[0m \u001b[0mact1\u001b[0m \u001b[1;33m=\u001b[0m \u001b[0minference_\u001b[0m\u001b[1;33m(\u001b[0m\u001b[0mmodel\u001b[0m\u001b[1;33m,\u001b[0m \u001b[0minput1\u001b[0m\u001b[1;33m)\u001b[0m\u001b[1;33m\u001b[0m\u001b[1;33m\u001b[0m\u001b[0m\n\u001b[0m\u001b[0;32m     25\u001b[0m     \u001b[0moutput5\u001b[0m\u001b[1;33m,\u001b[0m \u001b[0mact5\u001b[0m \u001b[1;33m=\u001b[0m \u001b[0minference_\u001b[0m\u001b[1;33m(\u001b[0m\u001b[0mmodel\u001b[0m\u001b[1;33m,\u001b[0m \u001b[0minput5\u001b[0m\u001b[1;33m)\u001b[0m\u001b[1;33m\u001b[0m\u001b[1;33m\u001b[0m\u001b[0m\n\u001b[0;32m     26\u001b[0m \u001b[1;33m\u001b[0m\u001b[0m\n",
      "\u001b[1;32mc:\\Users\\drewc\\Documents\\GitHub\\cos429\\assignment3\\initial\\pyc_code\\inference_.pyc\u001b[0m in \u001b[0;36minference\u001b[1;34m(model, input)\u001b[0m\n",
      "\u001b[1;32mc:\\Users\\drewc\\Documents\\GitHub\\cos429\\assignment3\\initial\\layers\\fn_conv.py\u001b[0m in \u001b[0;36mfn_conv\u001b[1;34m(input, params, hyper_params, backprop, dv_output)\u001b[0m\n\u001b[0;32m     26\u001b[0m     \u001b[0mout_width\u001b[0m \u001b[1;33m=\u001b[0m \u001b[0min_width\u001b[0m \u001b[1;33m-\u001b[0m \u001b[0mfilter_width\u001b[0m \u001b[1;33m+\u001b[0m \u001b[1;36m1\u001b[0m\u001b[1;33m\u001b[0m\u001b[1;33m\u001b[0m\u001b[0m\n\u001b[0;32m     27\u001b[0m \u001b[1;33m\u001b[0m\u001b[0m\n\u001b[1;32m---> 28\u001b[1;33m     \u001b[1;32massert\u001b[0m \u001b[0mfilter_depth\u001b[0m \u001b[1;33m==\u001b[0m \u001b[0mnum_channels\u001b[0m\u001b[1;33m,\u001b[0m \u001b[1;34m'Filter depth does not match number of input channels'\u001b[0m\u001b[1;33m\u001b[0m\u001b[1;33m\u001b[0m\u001b[0m\n\u001b[0m\u001b[0;32m     29\u001b[0m \u001b[1;33m\u001b[0m\u001b[0m\n\u001b[0;32m     30\u001b[0m     \u001b[1;31m# Initialize\u001b[0m\u001b[1;33m\u001b[0m\u001b[1;33m\u001b[0m\u001b[1;33m\u001b[0m\u001b[0m\n",
      "\u001b[1;31mAssertionError\u001b[0m: Filter depth does not match number of input channels"
     ]
    }
   ],
   "source": [
    "l2 = [init_layers('conv', {'filter_size': 2,\n",
    "                        'filter_depth': 3,\n",
    "                        'num_filters': 2}),\n",
    "    init_layers('conv', {'filter_size': 2,\n",
    "                        'filter_depth': 3,\n",
    "                        'num_filters': 2}),\n",
    "    init_layers('pool', {'filter_size': 2,\n",
    "                        'stride': 2}),\n",
    "    init_layers('relu', {}),\n",
    "    init_layers('flatten', {}),\n",
    "    init_layers('linear', {'num_in': 450,\n",
    "                            'num_out': 10}),\n",
    "    init_layers('softmax', {})]\n",
    "\n",
    "model2 = init_model(l2, [32, 32, 3], 10, True)"
   ]
  },
  {
   "attachments": {},
   "cell_type": "markdown",
   "metadata": {},
   "source": [
    "## Parameter Set 1\n",
    "\n",
    "Learning Rate: 1e-3\n",
    "\n",
    "Weight Decay: 1e-3\n",
    "\n",
    "Batch Size: 128"
   ]
  },
  {
   "cell_type": "code",
   "execution_count": null,
   "metadata": {},
   "outputs": [],
   "source": [
    "params =  {\"learning_rate\":1e-3,\n",
    "            \"weight_decay\":1e-3,\n",
    "            \"batch_size\":128,\n",
    "            \"save_file\":'model2.npz',\n",
    "            \"print_step\" : 10}\n",
    "#train\n",
    "model_result, loss = train(model2, X_train, y_train, params, numIters=1000)"
   ]
  },
  {
   "cell_type": "code",
   "execution_count": null,
   "metadata": {},
   "outputs": [],
   "source": [
    "#test\n",
    "accuracy,loss = test(model_result,X_test,y_test)\n",
    "print(accuracy, loss)"
   ]
  },
  {
   "cell_type": "code",
   "execution_count": null,
   "metadata": {},
   "outputs": [],
   "source": [
    "np.savez('model2.npz', **model_result)"
   ]
  }
 ],
 "metadata": {
  "kernelspec": {
   "display_name": "cos429",
   "language": "python",
   "name": "python3"
  },
  "language_info": {
   "codemirror_mode": {
    "name": "ipython",
    "version": 3
   },
   "file_extension": ".py",
   "mimetype": "text/x-python",
   "name": "python",
   "nbconvert_exporter": "python",
   "pygments_lexer": "ipython3",
   "version": "3.7.16"
  },
  "orig_nbformat": 4
 },
 "nbformat": 4,
 "nbformat_minor": 2
}
