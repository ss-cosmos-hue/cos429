{
 "cells": [
  {
   "cell_type": "code",
   "execution_count": 64,
   "metadata": {},
   "outputs": [
    {
     "name": "stdout",
     "output_type": "stream",
     "text": [
      "The autoreload extension is already loaded. To reload it, use:\n",
      "  %reload_ext autoreload\n"
     ]
    }
   ],
   "source": [
    "import model1\n",
    "%load_ext autoreload\n",
    "%autoreload 2"
   ]
  },
  {
   "cell_type": "code",
   "execution_count": 65,
   "metadata": {},
   "outputs": [
    {
     "name": "stdout",
     "output_type": "stream",
     "text": [
      "total_count = 0\n",
      "total_count = 100\n",
      "total_count = 200\n",
      "total_count = 300\n",
      "total_count = 400\n",
      "total_count = 500\n",
      "total_count = 600\n",
      "total_count = 700\n",
      "total_count = 800\n",
      "total_count = 900\n",
      "total_count = 1000\n",
      "total_count = 1100\n",
      "total_count = 1200\n",
      "total_count = 1300\n",
      "total_count = 1400\n",
      "total_count = 1500\n",
      "total_count = 1600\n",
      "total_count = 1700\n",
      "total_count = 1800\n",
      "total_count = 1900\n",
      "total_count = 2000\n",
      "total_count = 2100\n",
      "total_count = 2200\n",
      "total_count = 2300\n",
      "total_count = 2400\n",
      "total_count = 2500\n",
      "store in X and y\n"
     ]
    }
   ],
   "source": [
    "from data import collect_data, gen_dataset\n",
    "X, y = collect_data()"
   ]
  },
  {
   "cell_type": "code",
   "execution_count": 9,
   "metadata": {},
   "outputs": [],
   "source": [
    "datasets = gen_dataset(X, y, val_size = 0.2, test_size = 0.2)"
   ]
  },
  {
   "cell_type": "markdown",
   "metadata": {},
   "source": [
    "## hyper parameter tuning"
   ]
  },
  {
   "cell_type": "code",
   "execution_count": 63,
   "metadata": {},
   "outputs": [],
   "source": [
    "model = model1.Model(\n",
    "    lr=0.001,\n",
    "    bs = 64,\n",
    "    rho = 0.9,\n",
    "    gamma_step = 0.5,\n",
    "    gamma = 0.9,\n",
    "    n_active_layers = 1,\n",
    "    if_replace = False,\n",
    "    workers = 1,\n",
    "    epochs = 0,\n",
    "    mask = False,\n",
    "    unique_filename = \"seqno1\"\n",
    "    )\n",
    "#model\n",
    "#層の付け加え\n",
    "#cropの実装"
   ]
  },
  {
   "cell_type": "code",
   "execution_count": 57,
   "metadata": {},
   "outputs": [],
   "source": [
    "model.construct_data(datasets)"
   ]
  },
  {
   "cell_type": "code",
   "execution_count": 61,
   "metadata": {},
   "outputs": [
    {
     "name": "stdout",
     "output_type": "stream",
     "text": [
      "Finished Training\n"
     ]
    }
   ],
   "source": [
    "_, avg_training_loss, avg_training_accuracy, validation_loss, validation_accuracy = model.train()"
   ]
  },
  {
   "cell_type": "code",
   "execution_count": 62,
   "metadata": {},
   "outputs": [
    {
     "data": {
      "text/plain": [
       "(14.125181198120117, tensor(0.1818))"
      ]
     },
     "execution_count": 62,
     "metadata": {},
     "output_type": "execute_result"
    }
   ],
   "source": [
    "test_loss, test_acc = model.test()\n",
    "test_loss, test_acc"
   ]
  },
  {
   "cell_type": "code",
   "execution_count": null,
   "metadata": {},
   "outputs": [],
   "source": []
  }
 ],
 "metadata": {
  "kernelspec": {
   "display_name": "iw [~/.conda/envs/iw/]",
   "language": "python",
   "name": "conda_iw"
  },
  "language_info": {
   "codemirror_mode": {
    "name": "ipython",
    "version": 3
   },
   "file_extension": ".py",
   "mimetype": "text/x-python",
   "name": "python",
   "nbconvert_exporter": "python",
   "pygments_lexer": "ipython3",
   "version": "3.10.9"
  }
 },
 "nbformat": 4,
 "nbformat_minor": 4
}
