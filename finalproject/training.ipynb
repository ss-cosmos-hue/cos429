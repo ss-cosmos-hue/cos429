{
 "cells": [
  {
   "cell_type": "markdown",
   "metadata": {},
   "source": [
    "# Imports"
   ]
  },
  {
   "cell_type": "code",
   "execution_count": 1,
   "metadata": {},
   "outputs": [],
   "source": [
    "%load_ext autoreload\n",
    "%autoreload 2"
   ]
  },
  {
   "cell_type": "code",
   "execution_count": 2,
   "metadata": {},
   "outputs": [],
   "source": [
    "import model1\n",
    "import data\n",
    "from torchinfo import summary"
   ]
  },
  {
   "cell_type": "markdown",
   "metadata": {},
   "source": [
    "# Data"
   ]
  },
  {
   "cell_type": "markdown",
   "metadata": {},
   "source": [
    "## Configuration"
   ]
  },
  {
   "cell_type": "code",
   "execution_count": 3,
   "metadata": {},
   "outputs": [],
   "source": [
    "height = 512\n",
    "width = 384\n",
    "classes = {\"cardboard\":(0, 403),\n",
    "        \"glass\":(1, 501),\n",
    "        \"metal\":(2, 410),\n",
    "        \"paper\":(3, 594),\n",
    "        \"plastic\":(4, 482),\n",
    "        \"trash\":(5, 137)}"
   ]
  },
  {
   "cell_type": "code",
   "execution_count": 4,
   "metadata": {},
   "outputs": [],
   "source": [
    "collector = data.DataCollector(height, width, classes)"
   ]
  },
  {
   "cell_type": "markdown",
   "metadata": {},
   "source": [
    "## Collection"
   ]
  },
  {
   "cell_type": "code",
   "execution_count": 5,
   "metadata": {},
   "outputs": [
    {
     "name": "stdout",
     "output_type": "stream",
     "text": [
      "Store in X and y\n"
     ]
    }
   ],
   "source": [
    "datasets = collector.collect('data/trashnet', val_size=0.2, test_size=0.2)"
   ]
  },
  {
   "cell_type": "markdown",
   "metadata": {},
   "source": [
    "# Model 1"
   ]
  },
  {
   "cell_type": "markdown",
   "metadata": {},
   "source": [
    "## Construction"
   ]
  },
  {
   "cell_type": "code",
   "execution_count": 6,
   "metadata": {},
   "outputs": [],
   "source": [
    "model = model1.Model(\n",
    "    height=height,\n",
    "    width=width,\n",
    "    num_classes=len(classes),\n",
    "    lr=0.001,\n",
    "    bs = 64,\n",
    "    rho = 0.9,\n",
    "    gamma_step = 0.5,\n",
    "    gamma = 0.9,\n",
    "    num_active_layers = 1,\n",
    "    if_replace = False,\n",
    "    workers = 1,\n",
    "    epochs = 10,\n",
    "    mask = False,\n",
    "    unique_filename = \"seqno1\"\n",
    "    )"
   ]
  },
  {
   "cell_type": "code",
   "execution_count": 7,
   "metadata": {},
   "outputs": [
    {
     "name": "stderr",
     "output_type": "stream",
     "text": [
      "/home/denisac/.conda/envs/cos429/lib/python3.10/site-packages/torchinfo/torchinfo.py:477: UserWarning: TypedStorage is deprecated. It will be removed in the future and UntypedStorage will be the only storage class. This should only matter to you if you are using storages directly.  To access UntypedStorage directly, use tensor.untyped_storage() instead of tensor.storage()\n",
      "  action_fn=lambda data: sys.getsizeof(data.storage()),\n",
      "/home/denisac/.conda/envs/cos429/lib/python3.10/site-packages/torch/storage.py:665: UserWarning: TypedStorage is deprecated. It will be removed in the future and UntypedStorage will be the only storage class. This should only matter to you if you are using storages directly.  To access UntypedStorage directly, use tensor.untyped_storage() instead of tensor.storage()\n",
      "  return super().__sizeof__() + self.nbytes()\n"
     ]
    },
    {
     "data": {
      "text/plain": [
       "==========================================================================================\n",
       "Layer (type:depth-idx)                   Output Shape              Param #\n",
       "==========================================================================================\n",
       "ResNet                                   [64, 6]                   --\n",
       "├─Conv2d: 1-1                            [64, 64, 256, 192]        (9,408)\n",
       "├─BatchNorm2d: 1-2                       [64, 64, 256, 192]        (128)\n",
       "├─ReLU: 1-3                              [64, 64, 256, 192]        --\n",
       "├─MaxPool2d: 1-4                         [64, 64, 128, 96]         --\n",
       "├─Sequential: 1-5                        [64, 64, 128, 96]         --\n",
       "│    └─BasicBlock: 2-1                   [64, 64, 128, 96]         --\n",
       "│    │    └─Conv2d: 3-1                  [64, 64, 128, 96]         (36,864)\n",
       "│    │    └─BatchNorm2d: 3-2             [64, 64, 128, 96]         (128)\n",
       "│    │    └─ReLU: 3-3                    [64, 64, 128, 96]         --\n",
       "│    │    └─Conv2d: 3-4                  [64, 64, 128, 96]         (36,864)\n",
       "│    │    └─BatchNorm2d: 3-5             [64, 64, 128, 96]         (128)\n",
       "│    │    └─ReLU: 3-6                    [64, 64, 128, 96]         --\n",
       "│    └─BasicBlock: 2-2                   [64, 64, 128, 96]         --\n",
       "│    │    └─Conv2d: 3-7                  [64, 64, 128, 96]         (36,864)\n",
       "│    │    └─BatchNorm2d: 3-8             [64, 64, 128, 96]         (128)\n",
       "│    │    └─ReLU: 3-9                    [64, 64, 128, 96]         --\n",
       "│    │    └─Conv2d: 3-10                 [64, 64, 128, 96]         (36,864)\n",
       "│    │    └─BatchNorm2d: 3-11            [64, 64, 128, 96]         (128)\n",
       "│    │    └─ReLU: 3-12                   [64, 64, 128, 96]         --\n",
       "│    └─BasicBlock: 2-3                   [64, 64, 128, 96]         --\n",
       "│    │    └─Conv2d: 3-13                 [64, 64, 128, 96]         (36,864)\n",
       "│    │    └─BatchNorm2d: 3-14            [64, 64, 128, 96]         (128)\n",
       "│    │    └─ReLU: 3-15                   [64, 64, 128, 96]         --\n",
       "│    │    └─Conv2d: 3-16                 [64, 64, 128, 96]         (36,864)\n",
       "│    │    └─BatchNorm2d: 3-17            [64, 64, 128, 96]         (128)\n",
       "│    │    └─ReLU: 3-18                   [64, 64, 128, 96]         --\n",
       "├─Sequential: 1-6                        [64, 128, 64, 48]         --\n",
       "│    └─BasicBlock: 2-4                   [64, 128, 64, 48]         --\n",
       "│    │    └─Conv2d: 3-19                 [64, 128, 64, 48]         (73,728)\n",
       "│    │    └─BatchNorm2d: 3-20            [64, 128, 64, 48]         (256)\n",
       "│    │    └─ReLU: 3-21                   [64, 128, 64, 48]         --\n",
       "│    │    └─Conv2d: 3-22                 [64, 128, 64, 48]         (147,456)\n",
       "│    │    └─BatchNorm2d: 3-23            [64, 128, 64, 48]         (256)\n",
       "│    │    └─Sequential: 3-24             [64, 128, 64, 48]         (8,448)\n",
       "│    │    └─ReLU: 3-25                   [64, 128, 64, 48]         --\n",
       "│    └─BasicBlock: 2-5                   [64, 128, 64, 48]         --\n",
       "│    │    └─Conv2d: 3-26                 [64, 128, 64, 48]         (147,456)\n",
       "│    │    └─BatchNorm2d: 3-27            [64, 128, 64, 48]         (256)\n",
       "│    │    └─ReLU: 3-28                   [64, 128, 64, 48]         --\n",
       "│    │    └─Conv2d: 3-29                 [64, 128, 64, 48]         (147,456)\n",
       "│    │    └─BatchNorm2d: 3-30            [64, 128, 64, 48]         (256)\n",
       "│    │    └─ReLU: 3-31                   [64, 128, 64, 48]         --\n",
       "│    └─BasicBlock: 2-6                   [64, 128, 64, 48]         --\n",
       "│    │    └─Conv2d: 3-32                 [64, 128, 64, 48]         (147,456)\n",
       "│    │    └─BatchNorm2d: 3-33            [64, 128, 64, 48]         (256)\n",
       "│    │    └─ReLU: 3-34                   [64, 128, 64, 48]         --\n",
       "│    │    └─Conv2d: 3-35                 [64, 128, 64, 48]         (147,456)\n",
       "│    │    └─BatchNorm2d: 3-36            [64, 128, 64, 48]         (256)\n",
       "│    │    └─ReLU: 3-37                   [64, 128, 64, 48]         --\n",
       "│    └─BasicBlock: 2-7                   [64, 128, 64, 48]         --\n",
       "│    │    └─Conv2d: 3-38                 [64, 128, 64, 48]         (147,456)\n",
       "│    │    └─BatchNorm2d: 3-39            [64, 128, 64, 48]         (256)\n",
       "│    │    └─ReLU: 3-40                   [64, 128, 64, 48]         --\n",
       "│    │    └─Conv2d: 3-41                 [64, 128, 64, 48]         (147,456)\n",
       "│    │    └─BatchNorm2d: 3-42            [64, 128, 64, 48]         (256)\n",
       "│    │    └─ReLU: 3-43                   [64, 128, 64, 48]         --\n",
       "├─Sequential: 1-7                        [64, 256, 32, 24]         --\n",
       "│    └─BasicBlock: 2-8                   [64, 256, 32, 24]         --\n",
       "│    │    └─Conv2d: 3-44                 [64, 256, 32, 24]         (294,912)\n",
       "│    │    └─BatchNorm2d: 3-45            [64, 256, 32, 24]         (512)\n",
       "│    │    └─ReLU: 3-46                   [64, 256, 32, 24]         --\n",
       "│    │    └─Conv2d: 3-47                 [64, 256, 32, 24]         (589,824)\n",
       "│    │    └─BatchNorm2d: 3-48            [64, 256, 32, 24]         (512)\n",
       "│    │    └─Sequential: 3-49             [64, 256, 32, 24]         (33,280)\n",
       "│    │    └─ReLU: 3-50                   [64, 256, 32, 24]         --\n",
       "│    └─BasicBlock: 2-9                   [64, 256, 32, 24]         --\n",
       "│    │    └─Conv2d: 3-51                 [64, 256, 32, 24]         (589,824)\n",
       "│    │    └─BatchNorm2d: 3-52            [64, 256, 32, 24]         (512)\n",
       "│    │    └─ReLU: 3-53                   [64, 256, 32, 24]         --\n",
       "│    │    └─Conv2d: 3-54                 [64, 256, 32, 24]         (589,824)\n",
       "│    │    └─BatchNorm2d: 3-55            [64, 256, 32, 24]         (512)\n",
       "│    │    └─ReLU: 3-56                   [64, 256, 32, 24]         --\n",
       "│    └─BasicBlock: 2-10                  [64, 256, 32, 24]         --\n",
       "│    │    └─Conv2d: 3-57                 [64, 256, 32, 24]         (589,824)\n",
       "│    │    └─BatchNorm2d: 3-58            [64, 256, 32, 24]         (512)\n",
       "│    │    └─ReLU: 3-59                   [64, 256, 32, 24]         --\n",
       "│    │    └─Conv2d: 3-60                 [64, 256, 32, 24]         (589,824)\n",
       "│    │    └─BatchNorm2d: 3-61            [64, 256, 32, 24]         (512)\n",
       "│    │    └─ReLU: 3-62                   [64, 256, 32, 24]         --\n",
       "│    └─BasicBlock: 2-11                  [64, 256, 32, 24]         --\n",
       "│    │    └─Conv2d: 3-63                 [64, 256, 32, 24]         (589,824)\n",
       "│    │    └─BatchNorm2d: 3-64            [64, 256, 32, 24]         (512)\n",
       "│    │    └─ReLU: 3-65                   [64, 256, 32, 24]         --\n",
       "│    │    └─Conv2d: 3-66                 [64, 256, 32, 24]         (589,824)\n",
       "│    │    └─BatchNorm2d: 3-67            [64, 256, 32, 24]         (512)\n",
       "│    │    └─ReLU: 3-68                   [64, 256, 32, 24]         --\n",
       "│    └─BasicBlock: 2-12                  [64, 256, 32, 24]         --\n",
       "│    │    └─Conv2d: 3-69                 [64, 256, 32, 24]         (589,824)\n",
       "│    │    └─BatchNorm2d: 3-70            [64, 256, 32, 24]         (512)\n",
       "│    │    └─ReLU: 3-71                   [64, 256, 32, 24]         --\n",
       "│    │    └─Conv2d: 3-72                 [64, 256, 32, 24]         (589,824)\n",
       "│    │    └─BatchNorm2d: 3-73            [64, 256, 32, 24]         (512)\n",
       "│    │    └─ReLU: 3-74                   [64, 256, 32, 24]         --\n",
       "│    └─BasicBlock: 2-13                  [64, 256, 32, 24]         --\n",
       "│    │    └─Conv2d: 3-75                 [64, 256, 32, 24]         (589,824)\n",
       "│    │    └─BatchNorm2d: 3-76            [64, 256, 32, 24]         (512)\n",
       "│    │    └─ReLU: 3-77                   [64, 256, 32, 24]         --\n",
       "│    │    └─Conv2d: 3-78                 [64, 256, 32, 24]         (589,824)\n",
       "│    │    └─BatchNorm2d: 3-79            [64, 256, 32, 24]         (512)\n",
       "│    │    └─ReLU: 3-80                   [64, 256, 32, 24]         --\n",
       "├─Sequential: 1-8                        [64, 512, 16, 12]         --\n",
       "│    └─BasicBlock: 2-14                  [64, 512, 16, 12]         --\n",
       "│    │    └─Conv2d: 3-81                 [64, 512, 16, 12]         (1,179,648)\n",
       "│    │    └─BatchNorm2d: 3-82            [64, 512, 16, 12]         (1,024)\n",
       "│    │    └─ReLU: 3-83                   [64, 512, 16, 12]         --\n",
       "│    │    └─Conv2d: 3-84                 [64, 512, 16, 12]         (2,359,296)\n",
       "│    │    └─BatchNorm2d: 3-85            [64, 512, 16, 12]         (1,024)\n",
       "│    │    └─Sequential: 3-86             [64, 512, 16, 12]         (132,096)\n",
       "│    │    └─ReLU: 3-87                   [64, 512, 16, 12]         --\n",
       "│    └─BasicBlock: 2-15                  [64, 512, 16, 12]         --\n",
       "│    │    └─Conv2d: 3-88                 [64, 512, 16, 12]         (2,359,296)\n",
       "│    │    └─BatchNorm2d: 3-89            [64, 512, 16, 12]         (1,024)\n",
       "│    │    └─ReLU: 3-90                   [64, 512, 16, 12]         --\n",
       "│    │    └─Conv2d: 3-91                 [64, 512, 16, 12]         (2,359,296)\n",
       "│    │    └─BatchNorm2d: 3-92            [64, 512, 16, 12]         (1,024)\n",
       "│    │    └─ReLU: 3-93                   [64, 512, 16, 12]         --\n",
       "│    └─BasicBlock: 2-16                  [64, 512, 16, 12]         --\n",
       "│    │    └─Conv2d: 3-94                 [64, 512, 16, 12]         (2,359,296)\n",
       "│    │    └─BatchNorm2d: 3-95            [64, 512, 16, 12]         (1,024)\n",
       "│    │    └─ReLU: 3-96                   [64, 512, 16, 12]         --\n",
       "│    │    └─Conv2d: 3-97                 [64, 512, 16, 12]         (2,359,296)\n",
       "│    │    └─BatchNorm2d: 3-98            [64, 512, 16, 12]         (1,024)\n",
       "│    │    └─ReLU: 3-99                   [64, 512, 16, 12]         --\n",
       "├─AdaptiveAvgPool2d: 1-9                 [64, 512, 1, 1]           --\n",
       "├─Linear: 1-10                           [64, 6]                   3,078\n",
       "==========================================================================================\n",
       "Total params: 21,287,750\n",
       "Trainable params: 3,078\n",
       "Non-trainable params: 21,284,672\n",
       "Total mult-adds (G): 918.65\n",
       "==========================================================================================\n",
       "Input size (MB): 150.99\n",
       "Forward/backward pass size (MB): 14998.83\n",
       "Params size (MB): 85.15\n",
       "Estimated Total Size (MB): 15234.98\n",
       "=========================================================================================="
      ]
     },
     "execution_count": 7,
     "metadata": {},
     "output_type": "execute_result"
    }
   ],
   "source": [
    "summary(model.model, input_size=(model.batch_size, 3, model.height, model.width))"
   ]
  },
  {
   "cell_type": "code",
   "execution_count": 8,
   "metadata": {},
   "outputs": [],
   "source": [
    "model.construct_data(datasets)"
   ]
  },
  {
   "cell_type": "markdown",
   "metadata": {},
   "source": [
    "## Training"
   ]
  },
  {
   "cell_type": "code",
   "execution_count": 9,
   "metadata": {},
   "outputs": [
    {
     "name": "stdout",
     "output_type": "stream",
     "text": [
      "Epoch:   1 \t Training Loss: 1.73331 \t Training Accuracy: 0.23603 \t Validation Loss: 1.68321 \t Validation Accuracy: 0.31287\n",
      "Epoch:   2 \t Training Loss: 1.59758 \t Training Accuracy: 0.35683 \t Validation Loss: 1.53208 \t Validation Accuracy: 0.40396\n",
      "Epoch:   3 \t Training Loss: 1.51109 \t Training Accuracy: 0.40453 \t Validation Loss: 1.47611 \t Validation Accuracy: 0.42376\n",
      "Epoch:   4 \t Training Loss: 1.45948 \t Training Accuracy: 0.42975 \t Validation Loss: 1.44384 \t Validation Accuracy: 0.44554\n",
      "Epoch:   5 \t Training Loss: 1.43454 \t Training Accuracy: 0.43632 \t Validation Loss: 1.42468 \t Validation Accuracy: 0.44752\n",
      "Epoch:   6 \t Training Loss: 1.40374 \t Training Accuracy: 0.46419 \t Validation Loss: 1.40327 \t Validation Accuracy: 0.44554\n",
      "Epoch:   7 \t Training Loss: 1.38783 \t Training Accuracy: 0.46549 \t Validation Loss: 1.39661 \t Validation Accuracy: 0.44950\n",
      "Epoch:   8 \t Training Loss: 1.37735 \t Training Accuracy: 0.47141 \t Validation Loss: 1.38135 \t Validation Accuracy: 0.45149\n",
      "Epoch:   9 \t Training Loss: 1.36025 \t Training Accuracy: 0.48035 \t Validation Loss: 1.36891 \t Validation Accuracy: 0.45743\n",
      "Epoch:  10 \t Training Loss: 1.35132 \t Training Accuracy: 0.47727 \t Validation Loss: 1.36439 \t Validation Accuracy: 0.45149\n",
      "Finished Training\n"
     ]
    }
   ],
   "source": [
    "_, avg_training_loss, avg_training_accuracy, validation_loss, validation_accuracy = model.train()"
   ]
  },
  {
   "cell_type": "code",
   "execution_count": null,
   "metadata": {},
   "outputs": [],
   "source": [
    "test_loss, test_accuracy = model.test()\n",
    "test_loss, test_accuracy"
   ]
  },
  {
   "cell_type": "code",
   "execution_count": null,
   "metadata": {},
   "outputs": [],
   "source": []
  }
 ],
 "metadata": {
  "kernelspec": {
   "display_name": "cos429 [~/.conda/envs/cos429/]",
   "language": "python",
   "name": "conda_cos429"
  },
  "language_info": {
   "codemirror_mode": {
    "name": "ipython",
    "version": 3
   },
   "file_extension": ".py",
   "mimetype": "text/x-python",
   "name": "python",
   "nbconvert_exporter": "python",
   "pygments_lexer": "ipython3",
   "version": "3.10.11"
  }
 },
 "nbformat": 4,
 "nbformat_minor": 4
}
