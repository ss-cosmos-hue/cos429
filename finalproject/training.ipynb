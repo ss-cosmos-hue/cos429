{
 "cells": [
  {
   "cell_type": "markdown",
   "metadata": {},
   "source": [
    "# Imports"
   ]
  },
  {
   "cell_type": "code",
   "execution_count": 5,
   "metadata": {},
   "outputs": [
    {
     "name": "stdout",
     "output_type": "stream",
     "text": [
      "The autoreload extension is already loaded. To reload it, use:\n",
      "  %reload_ext autoreload\n"
     ]
    }
   ],
   "source": [
    "%load_ext autoreload\n",
    "%autoreload 2"
   ]
  },
  {
   "cell_type": "code",
   "execution_count": 26,
   "metadata": {},
   "outputs": [],
   "source": [
    "import model1\n",
    "import data\n",
    "import matplotlib.pyplot as plt\n",
    "import numpy as np\n",
    "from torchinfo import summary"
   ]
  },
  {
   "cell_type": "markdown",
   "metadata": {},
   "source": [
    "# Data"
   ]
  },
  {
   "cell_type": "markdown",
   "metadata": {},
   "source": [
    "## Configuration"
   ]
  },
  {
   "cell_type": "code",
   "execution_count": 8,
   "metadata": {},
   "outputs": [],
   "source": [
    "height = 512\n",
    "width = 384\n",
    "classes = {\"cardboard\":(0, 403),\n",
    "        \"glass\":(1, 501),\n",
    "        \"metal\":(2, 410),\n",
    "        \"paper\":(3, 594),\n",
    "        \"plastic\":(4, 482),\n",
    "        \"trash\":(5, 137)}\n",
    "skin_tones = {0:(41, 23, 9),#darker\n",
    "              1:(95, 51, 16),\n",
    "              2:(127, 68, 34),\n",
    "              3:(178, 102, 68),\n",
    "              4:(115, 63, 23),\n",
    "              5:(147, 95, 55),\n",
    "              6:(173, 138, 96),\n",
    "              7:(207, 150, 95),\n",
    "              8:(187, 101, 54),\n",
    "              9:(212, 158, 122),\n",
    "              11:(242, 194, 128),\n",
    "              12:(236, 192, 145),\n",
    "              13:(249, 212, 160),\n",
    "              14:(248, 217, 152),\n",
    "              15:(253, 231, 173),\n",
    "              16:(254, 227, 197)}#paler"
   ]
  },
  {
   "cell_type": "markdown",
   "metadata": {},
   "source": [
    "## Collection"
   ]
  },
  {
   "cell_type": "markdown",
   "metadata": {},
   "source": [
    "# Model 1"
   ]
  },
  {
   "cell_type": "markdown",
   "metadata": {},
   "source": [
    "### data load without mask"
   ]
  },
  {
   "cell_type": "code",
   "execution_count": 9,
   "metadata": {},
   "outputs": [
    {
     "name": "stdout",
     "output_type": "stream",
     "text": [
      "Store in X and y\n"
     ]
    }
   ],
   "source": [
    "collector = data.DataCollector(height, width, classes)\n",
    "datasets = collector.collect('trashnet/dataset-resized', val_size=0.2, test_size=0.2)"
   ]
  },
  {
   "cell_type": "markdown",
   "metadata": {},
   "source": [
    "## Construction"
   ]
  },
  {
   "cell_type": "code",
   "execution_count": 12,
   "metadata": {},
   "outputs": [],
   "source": [
    "unique_filename_model1 = \"seqno4_model1\"\n",
    "model = model1.Model(\n",
    "    height=height,\n",
    "    width=width,\n",
    "    num_classes=len(classes),\n",
    "    lr=0.001,\n",
    "    bs = 64,\n",
    "    rho = 0.9,\n",
    "    gamma_step = 0.5,\n",
    "    gamma = 0.9,\n",
    "    num_active_layers = 5,\n",
    "    if_replace = True,\n",
    "    workers = 1,\n",
    "    epochs = 25,\n",
    "    mask = False,\n",
    "    unique_filename = unique_filename_model1,\n",
    "    model_type = 1,\n",
    "    model_weights_ref_path = \"ResNet34_Weights.pth\"\n",
    "    )"
   ]
  },
  {
   "cell_type": "code",
   "execution_count": 13,
   "metadata": {},
   "outputs": [
    {
     "name": "stderr",
     "output_type": "stream",
     "text": [
      "/home/ss9295/.conda/envs/iw/lib/python3.10/site-packages/torchinfo/torchinfo.py:477: UserWarning: TypedStorage is deprecated. It will be removed in the future and UntypedStorage will be the only storage class. This should only matter to you if you are using storages directly.  To access UntypedStorage directly, use tensor.untyped_storage() instead of tensor.storage()\n",
      "  action_fn=lambda data: sys.getsizeof(data.storage()),\n",
      "/home/ss9295/.conda/envs/iw/lib/python3.10/site-packages/torch/storage.py:665: UserWarning: TypedStorage is deprecated. It will be removed in the future and UntypedStorage will be the only storage class. This should only matter to you if you are using storages directly.  To access UntypedStorage directly, use tensor.untyped_storage() instead of tensor.storage()\n",
      "  return super().__sizeof__() + self.nbytes()\n"
     ]
    },
    {
     "data": {
      "text/plain": [
       "==========================================================================================\n",
       "Layer (type:depth-idx)                   Output Shape              Param #\n",
       "==========================================================================================\n",
       "ResNet                                   [64, 6]                   --\n",
       "├─Conv2d: 1-1                            [64, 64, 256, 192]        (9,408)\n",
       "├─BatchNorm2d: 1-2                       [64, 64, 256, 192]        (128)\n",
       "├─ReLU: 1-3                              [64, 64, 256, 192]        --\n",
       "├─MaxPool2d: 1-4                         [64, 64, 128, 96]         --\n",
       "├─Sequential: 1-5                        [64, 64, 128, 96]         --\n",
       "│    └─BasicBlock: 2-1                   [64, 64, 128, 96]         --\n",
       "│    │    └─Conv2d: 3-1                  [64, 64, 128, 96]         (36,864)\n",
       "│    │    └─BatchNorm2d: 3-2             [64, 64, 128, 96]         (128)\n",
       "│    │    └─ReLU: 3-3                    [64, 64, 128, 96]         --\n",
       "│    │    └─Conv2d: 3-4                  [64, 64, 128, 96]         (36,864)\n",
       "│    │    └─BatchNorm2d: 3-5             [64, 64, 128, 96]         (128)\n",
       "│    │    └─ReLU: 3-6                    [64, 64, 128, 96]         --\n",
       "│    └─BasicBlock: 2-2                   [64, 64, 128, 96]         --\n",
       "│    │    └─Conv2d: 3-7                  [64, 64, 128, 96]         (36,864)\n",
       "│    │    └─BatchNorm2d: 3-8             [64, 64, 128, 96]         (128)\n",
       "│    │    └─ReLU: 3-9                    [64, 64, 128, 96]         --\n",
       "│    │    └─Conv2d: 3-10                 [64, 64, 128, 96]         (36,864)\n",
       "│    │    └─BatchNorm2d: 3-11            [64, 64, 128, 96]         (128)\n",
       "│    │    └─ReLU: 3-12                   [64, 64, 128, 96]         --\n",
       "│    └─BasicBlock: 2-3                   [64, 64, 128, 96]         --\n",
       "│    │    └─Conv2d: 3-13                 [64, 64, 128, 96]         (36,864)\n",
       "│    │    └─BatchNorm2d: 3-14            [64, 64, 128, 96]         (128)\n",
       "│    │    └─ReLU: 3-15                   [64, 64, 128, 96]         --\n",
       "│    │    └─Conv2d: 3-16                 [64, 64, 128, 96]         (36,864)\n",
       "│    │    └─BatchNorm2d: 3-17            [64, 64, 128, 96]         (128)\n",
       "│    │    └─ReLU: 3-18                   [64, 64, 128, 96]         --\n",
       "├─Sequential: 1-6                        [64, 128, 64, 48]         --\n",
       "│    └─BasicBlock: 2-4                   [64, 128, 64, 48]         --\n",
       "│    │    └─Conv2d: 3-19                 [64, 128, 64, 48]         73,728\n",
       "│    │    └─BatchNorm2d: 3-20            [64, 128, 64, 48]         256\n",
       "│    │    └─ReLU: 3-21                   [64, 128, 64, 48]         --\n",
       "│    │    └─Conv2d: 3-22                 [64, 128, 64, 48]         147,456\n",
       "│    │    └─BatchNorm2d: 3-23            [64, 128, 64, 48]         256\n",
       "│    │    └─Sequential: 3-24             [64, 128, 64, 48]         8,448\n",
       "│    │    └─ReLU: 3-25                   [64, 128, 64, 48]         --\n",
       "│    └─BasicBlock: 2-5                   [64, 128, 64, 48]         --\n",
       "│    │    └─Conv2d: 3-26                 [64, 128, 64, 48]         147,456\n",
       "│    │    └─BatchNorm2d: 3-27            [64, 128, 64, 48]         256\n",
       "│    │    └─ReLU: 3-28                   [64, 128, 64, 48]         --\n",
       "│    │    └─Conv2d: 3-29                 [64, 128, 64, 48]         147,456\n",
       "│    │    └─BatchNorm2d: 3-30            [64, 128, 64, 48]         256\n",
       "│    │    └─ReLU: 3-31                   [64, 128, 64, 48]         --\n",
       "│    └─BasicBlock: 2-6                   [64, 128, 64, 48]         --\n",
       "│    │    └─Conv2d: 3-32                 [64, 128, 64, 48]         147,456\n",
       "│    │    └─BatchNorm2d: 3-33            [64, 128, 64, 48]         256\n",
       "│    │    └─ReLU: 3-34                   [64, 128, 64, 48]         --\n",
       "│    │    └─Conv2d: 3-35                 [64, 128, 64, 48]         147,456\n",
       "│    │    └─BatchNorm2d: 3-36            [64, 128, 64, 48]         256\n",
       "│    │    └─ReLU: 3-37                   [64, 128, 64, 48]         --\n",
       "│    └─BasicBlock: 2-7                   [64, 128, 64, 48]         --\n",
       "│    │    └─Conv2d: 3-38                 [64, 128, 64, 48]         147,456\n",
       "│    │    └─BatchNorm2d: 3-39            [64, 128, 64, 48]         256\n",
       "│    │    └─ReLU: 3-40                   [64, 128, 64, 48]         --\n",
       "│    │    └─Conv2d: 3-41                 [64, 128, 64, 48]         147,456\n",
       "│    │    └─BatchNorm2d: 3-42            [64, 128, 64, 48]         256\n",
       "│    │    └─ReLU: 3-43                   [64, 128, 64, 48]         --\n",
       "├─Sequential: 1-7                        [64, 256, 32, 24]         --\n",
       "│    └─BasicBlock: 2-8                   [64, 256, 32, 24]         --\n",
       "│    │    └─Conv2d: 3-44                 [64, 256, 32, 24]         294,912\n",
       "│    │    └─BatchNorm2d: 3-45            [64, 256, 32, 24]         512\n",
       "│    │    └─ReLU: 3-46                   [64, 256, 32, 24]         --\n",
       "│    │    └─Conv2d: 3-47                 [64, 256, 32, 24]         589,824\n",
       "│    │    └─BatchNorm2d: 3-48            [64, 256, 32, 24]         512\n",
       "│    │    └─Sequential: 3-49             [64, 256, 32, 24]         33,280\n",
       "│    │    └─ReLU: 3-50                   [64, 256, 32, 24]         --\n",
       "│    └─BasicBlock: 2-9                   [64, 256, 32, 24]         --\n",
       "│    │    └─Conv2d: 3-51                 [64, 256, 32, 24]         589,824\n",
       "│    │    └─BatchNorm2d: 3-52            [64, 256, 32, 24]         512\n",
       "│    │    └─ReLU: 3-53                   [64, 256, 32, 24]         --\n",
       "│    │    └─Conv2d: 3-54                 [64, 256, 32, 24]         589,824\n",
       "│    │    └─BatchNorm2d: 3-55            [64, 256, 32, 24]         512\n",
       "│    │    └─ReLU: 3-56                   [64, 256, 32, 24]         --\n",
       "│    └─BasicBlock: 2-10                  [64, 256, 32, 24]         --\n",
       "│    │    └─Conv2d: 3-57                 [64, 256, 32, 24]         589,824\n",
       "│    │    └─BatchNorm2d: 3-58            [64, 256, 32, 24]         512\n",
       "│    │    └─ReLU: 3-59                   [64, 256, 32, 24]         --\n",
       "│    │    └─Conv2d: 3-60                 [64, 256, 32, 24]         589,824\n",
       "│    │    └─BatchNorm2d: 3-61            [64, 256, 32, 24]         512\n",
       "│    │    └─ReLU: 3-62                   [64, 256, 32, 24]         --\n",
       "│    └─BasicBlock: 2-11                  [64, 256, 32, 24]         --\n",
       "│    │    └─Conv2d: 3-63                 [64, 256, 32, 24]         589,824\n",
       "│    │    └─BatchNorm2d: 3-64            [64, 256, 32, 24]         512\n",
       "│    │    └─ReLU: 3-65                   [64, 256, 32, 24]         --\n",
       "│    │    └─Conv2d: 3-66                 [64, 256, 32, 24]         589,824\n",
       "│    │    └─BatchNorm2d: 3-67            [64, 256, 32, 24]         512\n",
       "│    │    └─ReLU: 3-68                   [64, 256, 32, 24]         --\n",
       "│    └─BasicBlock: 2-12                  [64, 256, 32, 24]         --\n",
       "│    │    └─Conv2d: 3-69                 [64, 256, 32, 24]         589,824\n",
       "│    │    └─BatchNorm2d: 3-70            [64, 256, 32, 24]         512\n",
       "│    │    └─ReLU: 3-71                   [64, 256, 32, 24]         --\n",
       "│    │    └─Conv2d: 3-72                 [64, 256, 32, 24]         589,824\n",
       "│    │    └─BatchNorm2d: 3-73            [64, 256, 32, 24]         512\n",
       "│    │    └─ReLU: 3-74                   [64, 256, 32, 24]         --\n",
       "│    └─BasicBlock: 2-13                  [64, 256, 32, 24]         --\n",
       "│    │    └─Conv2d: 3-75                 [64, 256, 32, 24]         589,824\n",
       "│    │    └─BatchNorm2d: 3-76            [64, 256, 32, 24]         512\n",
       "│    │    └─ReLU: 3-77                   [64, 256, 32, 24]         --\n",
       "│    │    └─Conv2d: 3-78                 [64, 256, 32, 24]         589,824\n",
       "│    │    └─BatchNorm2d: 3-79            [64, 256, 32, 24]         512\n",
       "│    │    └─ReLU: 3-80                   [64, 256, 32, 24]         --\n",
       "├─Sequential: 1-8                        [64, 512, 16, 12]         --\n",
       "│    └─BasicBlock: 2-14                  [64, 512, 16, 12]         --\n",
       "│    │    └─Conv2d: 3-81                 [64, 512, 16, 12]         1,179,648\n",
       "│    │    └─BatchNorm2d: 3-82            [64, 512, 16, 12]         1,024\n",
       "│    │    └─ReLU: 3-83                   [64, 512, 16, 12]         --\n",
       "│    │    └─Conv2d: 3-84                 [64, 512, 16, 12]         2,359,296\n",
       "│    │    └─BatchNorm2d: 3-85            [64, 512, 16, 12]         1,024\n",
       "│    │    └─Sequential: 3-86             [64, 512, 16, 12]         132,096\n",
       "│    │    └─ReLU: 3-87                   [64, 512, 16, 12]         --\n",
       "│    └─BasicBlock: 2-15                  [64, 512, 16, 12]         --\n",
       "│    │    └─Conv2d: 3-88                 [64, 512, 16, 12]         2,359,296\n",
       "│    │    └─BatchNorm2d: 3-89            [64, 512, 16, 12]         1,024\n",
       "│    │    └─ReLU: 3-90                   [64, 512, 16, 12]         --\n",
       "│    │    └─Conv2d: 3-91                 [64, 512, 16, 12]         2,359,296\n",
       "│    │    └─BatchNorm2d: 3-92            [64, 512, 16, 12]         1,024\n",
       "│    │    └─ReLU: 3-93                   [64, 512, 16, 12]         --\n",
       "│    └─BasicBlock: 2-16                  [64, 512, 16, 12]         --\n",
       "│    │    └─Conv2d: 3-94                 [64, 512, 16, 12]         2,359,296\n",
       "│    │    └─BatchNorm2d: 3-95            [64, 512, 16, 12]         1,024\n",
       "│    │    └─ReLU: 3-96                   [64, 512, 16, 12]         --\n",
       "│    │    └─Conv2d: 3-97                 [64, 512, 16, 12]         2,359,296\n",
       "│    │    └─BatchNorm2d: 3-98            [64, 512, 16, 12]         1,024\n",
       "│    │    └─ReLU: 3-99                   [64, 512, 16, 12]         --\n",
       "├─AdaptiveAvgPool2d: 1-9                 [64, 512, 1, 1]           --\n",
       "├─Linear: 1-10                           [64, 6]                   3,078\n",
       "==========================================================================================\n",
       "Total params: 21,287,750\n",
       "Trainable params: 21,056,262\n",
       "Non-trainable params: 231,488\n",
       "Total mult-adds (G): 918.65\n",
       "==========================================================================================\n",
       "Input size (MB): 150.99\n",
       "Forward/backward pass size (MB): 14998.83\n",
       "Params size (MB): 85.15\n",
       "Estimated Total Size (MB): 15234.98\n",
       "=========================================================================================="
      ]
     },
     "execution_count": 13,
     "metadata": {},
     "output_type": "execute_result"
    }
   ],
   "source": [
    "summary(model.model, input_size=(model.batch_size, 3, model.height, model.width))"
   ]
  },
  {
   "cell_type": "code",
   "execution_count": 14,
   "metadata": {},
   "outputs": [],
   "source": [
    "model.construct_data(datasets)"
   ]
  },
  {
   "cell_type": "markdown",
   "metadata": {},
   "source": [
    "## Training"
   ]
  },
  {
   "cell_type": "code",
   "execution_count": 15,
   "metadata": {},
   "outputs": [
    {
     "name": "stdout",
     "output_type": "stream",
     "text": [
      "Epoch:   1 \t Training Loss: 1.66458 \t Training Accuracy: 0.32298 \t Validation Loss: 1.52536 \t Validation Accuracy: 0.41980\n",
      "Epoch:   2 \t Training Loss: 1.36568 \t Training Accuracy: 0.45443 \t Validation Loss: 1.32764 \t Validation Accuracy: 0.50099\n",
      "Epoch:   3 \t Training Loss: 1.20646 \t Training Accuracy: 0.56445 \t Validation Loss: 1.27951 \t Validation Accuracy: 0.51881\n",
      "Epoch:   4 \t Training Loss: 1.08843 \t Training Accuracy: 0.61115 \t Validation Loss: 1.22756 \t Validation Accuracy: 0.53465\n",
      "Epoch:   5 \t Training Loss: 0.98496 \t Training Accuracy: 0.67549 \t Validation Loss: 1.19324 \t Validation Accuracy: 0.54455\n",
      "Epoch:   6 \t Training Loss: 0.88141 \t Training Accuracy: 0.71845 \t Validation Loss: 1.17511 \t Validation Accuracy: 0.56040\n",
      "Epoch:   7 \t Training Loss: 0.80043 \t Training Accuracy: 0.76201 \t Validation Loss: 1.15691 \t Validation Accuracy: 0.56436\n",
      "Epoch:   8 \t Training Loss: 0.72937 \t Training Accuracy: 0.79954 \t Validation Loss: 1.15604 \t Validation Accuracy: 0.57426\n",
      "Epoch:   9 \t Training Loss: 0.65123 \t Training Accuracy: 0.82907 \t Validation Loss: 1.13089 \t Validation Accuracy: 0.58416\n",
      "Epoch:  10 \t Training Loss: 0.61131 \t Training Accuracy: 0.84239 \t Validation Loss: 1.12541 \t Validation Accuracy: 0.57822\n",
      "Epoch:  11 \t Training Loss: 0.55275 \t Training Accuracy: 0.86500 \t Validation Loss: 1.11944 \t Validation Accuracy: 0.58218\n",
      "Epoch:  12 \t Training Loss: 0.50117 \t Training Accuracy: 0.88920 \t Validation Loss: 1.12098 \t Validation Accuracy: 0.60000\n",
      "Epoch:  13 \t Training Loss: 0.45488 \t Training Accuracy: 0.92004 \t Validation Loss: 1.11582 \t Validation Accuracy: 0.58812\n",
      "Epoch:  14 \t Training Loss: 0.42247 \t Training Accuracy: 0.92270 \t Validation Loss: 1.11778 \t Validation Accuracy: 0.59010\n",
      "Epoch:  15 \t Training Loss: 0.40138 \t Training Accuracy: 0.93170 \t Validation Loss: 1.11438 \t Validation Accuracy: 0.59208\n",
      "Epoch:  16 \t Training Loss: 0.37098 \t Training Accuracy: 0.94442 \t Validation Loss: 1.11709 \t Validation Accuracy: 0.59010\n",
      "Epoch:  17 \t Training Loss: 0.35084 \t Training Accuracy: 0.95088 \t Validation Loss: 1.11455 \t Validation Accuracy: 0.59802\n",
      "Epoch:  18 \t Training Loss: 0.33079 \t Training Accuracy: 0.94928 \t Validation Loss: 1.11918 \t Validation Accuracy: 0.60000\n",
      "Epoch:  19 \t Training Loss: 0.30818 \t Training Accuracy: 0.95478 \t Validation Loss: 1.11450 \t Validation Accuracy: 0.59406\n",
      "Epoch:  20 \t Training Loss: 0.29204 \t Training Accuracy: 0.96035 \t Validation Loss: 1.12178 \t Validation Accuracy: 0.59406\n",
      "Epoch:  21 \t Training Loss: 0.27544 \t Training Accuracy: 0.97366 \t Validation Loss: 1.12535 \t Validation Accuracy: 0.58812\n",
      "Epoch:  22 \t Training Loss: 0.28138 \t Training Accuracy: 0.97171 \t Validation Loss: 1.11899 \t Validation Accuracy: 0.59010\n",
      "Epoch:  23 \t Training Loss: 0.26456 \t Training Accuracy: 0.96946 \t Validation Loss: 1.12363 \t Validation Accuracy: 0.58812\n",
      "Epoch:  24 \t Training Loss: 0.25648 \t Training Accuracy: 0.97337 \t Validation Loss: 1.12295 \t Validation Accuracy: 0.58812\n",
      "Epoch:  25 \t Training Loss: 0.25069 \t Training Accuracy: 0.97496 \t Validation Loss: 1.12225 \t Validation Accuracy: 0.59208\n",
      "Finished Training\n"
     ]
    }
   ],
   "source": [
    "_, avg_training_loss, avg_training_accuracy, validation_loss, validation_accuracy = model.train()"
   ]
  },
  {
   "cell_type": "code",
   "execution_count": 16,
   "metadata": {},
   "outputs": [
    {
     "data": {
      "text/plain": [
       "(1.131502389907837, tensor(0.5968))"
      ]
     },
     "execution_count": 16,
     "metadata": {},
     "output_type": "execute_result"
    }
   ],
   "source": [
    "test_loss, test_accuracy = model.test()\n",
    "test_loss, test_accuracy"
   ]
  },
  {
   "cell_type": "markdown",
   "metadata": {},
   "source": [
    "# Model2 with mask"
   ]
  },
  {
   "cell_type": "markdown",
   "metadata": {},
   "source": [
    "## data collection with mask"
   ]
  },
  {
   "cell_type": "code",
   "execution_count": 33,
   "metadata": {},
   "outputs": [
    {
     "data": {
      "image/png": "[encoded data removed]",
      "text/plain": [
       "<Figure size 640x480 with 1 Axes>"
      ]
     },
     "metadata": {},
     "output_type": "display_data"
    }
   ],
   "source": [
    "plt.imshow(np.expand_dims(np.array(skin_tones[16]),axis = (0,1)))\n",
    "plt.show()"
   ]
  },
  {
   "cell_type": "code",
   "execution_count": 17,
   "metadata": {},
   "outputs": [
    {
     "name": "stdout",
     "output_type": "stream",
     "text": [
      "Store in X and y\n"
     ]
    }
   ],
   "source": [
    "collector2 = data.DataCollector(height, width, classes,\n",
    "                               mask_opts = {\"mask_size\":10,\"skintone_label\":15,\n",
    "                               })\n",
    "datasets2 = collector2.collect('trashnet/dataset-resized', val_size=0.2, test_size=0.2)"
   ]
  },
  {
   "cell_type": "code",
   "execution_count": 20,
   "metadata": {},
   "outputs": [],
   "source": [
    "model2 = model1.Model(\n",
    "    height=height,\n",
    "    width=width,\n",
    "    num_classes=len(classes),\n",
    "    lr=0.001,\n",
    "    bs = 64,\n",
    "    rho = 0.9,\n",
    "    gamma_step = 0.5,\n",
    "    gamma = 0.9,\n",
    "    num_active_layers = 5,\n",
    "    if_replace = True,\n",
    "    workers = 1,\n",
    "    epochs = 25,\n",
    "    mask = True,\n",
    "    unique_filename = \"seqno5_model2\",\n",
    "    model_type = 2,\n",
    "    model_weights_ref_path = f'models/{unique_filename_model1}/model.pth'\n",
    "    )"
   ]
  },
  {
   "cell_type": "code",
   "execution_count": 21,
   "metadata": {},
   "outputs": [],
   "source": [
    "model2.construct_data(datasets2)"
   ]
  },
  {
   "cell_type": "code",
   "execution_count": 22,
   "metadata": {},
   "outputs": [
    {
     "name": "stdout",
     "output_type": "stream",
     "text": [
      "Epoch:   1 \t Training Loss: 0.98364 \t Training Accuracy: 0.63429 \t Validation Loss: 1.19058 \t Validation Accuracy: 0.54653\n",
      "Epoch:   2 \t Training Loss: 0.64310 \t Training Accuracy: 0.79421 \t Validation Loss: 1.14307 \t Validation Accuracy: 0.56436\n",
      "Epoch:   3 \t Training Loss: 0.44638 \t Training Accuracy: 0.88855 \t Validation Loss: 1.13451 \t Validation Accuracy: 0.57822\n",
      "Epoch:   4 \t Training Loss: 0.31374 \t Training Accuracy: 0.94614 \t Validation Loss: 1.13639 \t Validation Accuracy: 0.60000\n",
      "Epoch:   5 \t Training Loss: 0.23369 \t Training Accuracy: 0.97508 \t Validation Loss: 1.14822 \t Validation Accuracy: 0.59010\n",
      "Epoch:   6 \t Training Loss: 0.17641 \t Training Accuracy: 0.98603 \t Validation Loss: 1.15478 \t Validation Accuracy: 0.59802\n",
      "Epoch:   7 \t Training Loss: 0.13240 \t Training Accuracy: 0.99094 \t Validation Loss: 1.17892 \t Validation Accuracy: 0.58812\n",
      "Epoch:   8 \t Training Loss: 0.11565 \t Training Accuracy: 0.99450 \t Validation Loss: 1.19440 \t Validation Accuracy: 0.59406\n",
      "Epoch:   9 \t Training Loss: 0.09807 \t Training Accuracy: 0.99674 \t Validation Loss: 1.18525 \t Validation Accuracy: 0.60000\n",
      "Epoch:  10 \t Training Loss: 0.07876 \t Training Accuracy: 0.99870 \t Validation Loss: 1.19132 \t Validation Accuracy: 0.59406\n",
      "Epoch:  11 \t Training Loss: 0.07895 \t Training Accuracy: 0.99870 \t Validation Loss: 1.20927 \t Validation Accuracy: 0.60000\n",
      "Epoch:  12 \t Training Loss: 0.06215 \t Training Accuracy: 0.99870 \t Validation Loss: 1.21082 \t Validation Accuracy: 0.59208\n",
      "Epoch:  13 \t Training Loss: 0.06103 \t Training Accuracy: 0.99935 \t Validation Loss: 1.21372 \t Validation Accuracy: 0.60000\n",
      "Epoch:  14 \t Training Loss: 0.05337 \t Training Accuracy: 1.00000 \t Validation Loss: 1.20963 \t Validation Accuracy: 0.59802\n",
      "Epoch:  15 \t Training Loss: 0.05325 \t Training Accuracy: 0.99935 \t Validation Loss: 1.22233 \t Validation Accuracy: 0.60000\n",
      "Epoch:  16 \t Training Loss: 0.05476 \t Training Accuracy: 1.00000 \t Validation Loss: 1.23106 \t Validation Accuracy: 0.60198\n",
      "Epoch:  17 \t Training Loss: 0.05400 \t Training Accuracy: 0.99935 \t Validation Loss: 1.22841 \t Validation Accuracy: 0.59406\n",
      "Epoch:  18 \t Training Loss: 0.04557 \t Training Accuracy: 0.99935 \t Validation Loss: 1.22532 \t Validation Accuracy: 0.59802\n",
      "Epoch:  19 \t Training Loss: 0.04650 \t Training Accuracy: 1.00000 \t Validation Loss: 1.22897 \t Validation Accuracy: 0.59208\n",
      "Epoch:  20 \t Training Loss: 0.04461 \t Training Accuracy: 0.99935 \t Validation Loss: 1.22923 \t Validation Accuracy: 0.59604\n",
      "Epoch:  21 \t Training Loss: 0.04764 \t Training Accuracy: 1.00000 \t Validation Loss: 1.23247 \t Validation Accuracy: 0.60198\n",
      "Epoch:  22 \t Training Loss: 0.04027 \t Training Accuracy: 1.00000 \t Validation Loss: 1.23850 \t Validation Accuracy: 0.59802\n",
      "Epoch:  23 \t Training Loss: 0.04254 \t Training Accuracy: 1.00000 \t Validation Loss: 1.23793 \t Validation Accuracy: 0.60396\n",
      "Epoch:  24 \t Training Loss: 0.04011 \t Training Accuracy: 1.00000 \t Validation Loss: 1.23858 \t Validation Accuracy: 0.60396\n",
      "Epoch:  25 \t Training Loss: 0.04124 \t Training Accuracy: 1.00000 \t Validation Loss: 1.24177 \t Validation Accuracy: 0.60000\n",
      "Finished Training\n"
     ]
    }
   ],
   "source": [
    "_, avg_training_loss, avg_training_accuracy, validation_loss, validation_accuracy = model2.train()"
   ]
  },
  {
   "cell_type": "code",
   "execution_count": 23,
   "metadata": {},
   "outputs": [
    {
     "data": {
      "text/plain": [
       "(1.2986149787902832, tensor(0.5751))"
      ]
     },
     "execution_count": 23,
     "metadata": {},
     "output_type": "execute_result"
    }
   ],
   "source": [
    "test_loss, test_accuracy = model2.test()\n",
    "test_loss, test_accuracy"
   ]
  },
  {
   "cell_type": "code",
   "execution_count": null,
   "metadata": {},
   "outputs": [],
   "source": []
  }
 ],
 "metadata": {
  "kernelspec": {
   "display_name": "iw [~/.conda/envs/iw/]",
   "language": "python",
   "name": "conda_iw"
  },
  "language_info": {
   "codemirror_mode": {
    "name": "ipython",
    "version": 3
   },
   "file_extension": ".py",
   "mimetype": "text/x-python",
   "name": "python",
   "nbconvert_exporter": "python",
   "pygments_lexer": "ipython3",
   "version": "3.10.11"
  }
 },
 "nbformat": 4,
 "nbformat_minor": 4
}
