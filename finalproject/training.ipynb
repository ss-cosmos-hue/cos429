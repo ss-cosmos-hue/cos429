{
 "cells": [
  {
   "cell_type": "markdown",
   "metadata": {},
   "source": [
    "# Setup"
   ]
  },
  {
   "cell_type": "markdown",
   "metadata": {},
   "source": [
    "## Imports"
   ]
  },
  {
   "cell_type": "code",
   "execution_count": 1,
   "metadata": {},
   "outputs": [],
   "source": [
    "%load_ext autoreload\n",
    "%autoreload 2"
   ]
  },
  {
   "cell_type": "code",
   "execution_count": 2,
   "metadata": {},
   "outputs": [],
   "source": [
    "import model\n",
    "import data\n",
    "import matplotlib.pyplot as plt\n",
    "import numpy as np\n",
    "from torchinfo import summary\n",
    "import torch"
   ]
  },
  {
   "cell_type": "markdown",
   "metadata": {},
   "source": [
    "## Data Configuration"
   ]
  },
  {
   "cell_type": "code",
   "execution_count": 3,
   "metadata": {},
   "outputs": [],
   "source": [
    "import zipfile\n",
    "with zipfile.ZipFile(\"data.zip\", 'r') as zip_ref:\n",
    "    zip_ref.extractall(\"data\")"
   ]
  },
  {
   "cell_type": "code",
   "execution_count": 4,
   "metadata": {},
   "outputs": [],
   "source": [
    "height = 512\n",
    "width = 384\n",
    "classes = {\"cardboard\":(0, 403),\n",
    "        \"glass\":(1, 501),\n",
    "        \"metal\":(2, 410),\n",
    "        \"paper\":(3, 594),\n",
    "        \"plastic\":(4, 482),\n",
    "        \"trash\":(5, 137)}\n",
    "skin_tones = {0:(41, 23, 9),\n",
    "              1:(95, 51, 16),\n",
    "              2:(127, 68, 34),\n",
    "              3:(178, 102, 68),\n",
    "              4:(115, 63, 23),\n",
    "              5:(147, 95, 55),\n",
    "              6:(173, 138, 96),\n",
    "              7:(207, 150, 95),\n",
    "              8:(187, 101, 54),\n",
    "              9:(212, 158, 122),\n",
    "              11:(242, 194, 128),\n",
    "              12:(236, 192, 145),\n",
    "              13:(249, 212, 160),\n",
    "              14:(248, 217, 152),\n",
    "              15:(253, 231, 173),\n",
    "              16:(254, 227, 197)}"
   ]
  },
  {
   "cell_type": "markdown",
   "metadata": {},
   "source": [
    "# Model 1"
   ]
  },
  {
   "cell_type": "markdown",
   "metadata": {},
   "source": [
    "## Data Load (No Mask)"
   ]
  },
  {
   "cell_type": "code",
   "execution_count": 5,
   "metadata": {},
   "outputs": [
    {
     "name": "stdout",
     "output_type": "stream",
     "text": [
      "Store in X and y\n"
     ]
    }
   ],
   "source": [
    "collector = data.DataCollector(height, width, classes)\n",
    "datasets = collector.collect('data/trashnet', val_size=0.2, test_size=0.2)"
   ]
  },
  {
   "cell_type": "markdown",
   "metadata": {},
   "source": [
    "## Construction"
   ]
  },
  {
   "cell_type": "code",
   "execution_count": 6,
   "metadata": {},
   "outputs": [],
   "source": [
    "unique_filename_model1_unfreeze_1 = \"seqno5_model1_train_final_layer\""
   ]
  },
  {
   "cell_type": "code",
   "execution_count": 7,
   "metadata": {},
   "outputs": [],
   "source": [
    "model1 = model.Model(\n",
    "    height=height,\n",
    "    width=width,\n",
    "    num_classes=len(classes),\n",
    "    lr=0.001,\n",
    "    bs = 64,\n",
    "    rho = 0.9,\n",
    "    gamma_step = 0.5,\n",
    "    gamma = 0.9,\n",
    "    num_active_layers = 5,\n",
    "    free_all = False,\n",
    "    if_replace = True,\n",
    "    workers = 1,\n",
    "    epochs = 25,\n",
    "    mask = False,\n",
    "    unique_filename = unique_filename_model1_unfreeze_1,\n",
    "    model_type = 1,\n",
    "    model_weights_ref_path = \"ResNet34_Weights.pth\"\n",
    "    )"
   ]
  },
  {
   "cell_type": "code",
   "execution_count": 8,
   "metadata": {},
   "outputs": [],
   "source": [
    "# summary(model1.model, input_size=(model.batch_size, 3, model.height, model.width))"
   ]
  },
  {
   "cell_type": "code",
   "execution_count": 9,
   "metadata": {},
   "outputs": [],
   "source": [
    "model1.construct_data(datasets)"
   ]
  },
  {
   "cell_type": "markdown",
   "metadata": {},
   "source": [
    "## Training (Last Layer)"
   ]
  },
  {
   "cell_type": "code",
   "execution_count": null,
   "metadata": {},
   "outputs": [
    {
     "name": "stdout",
     "output_type": "stream",
     "text": [
      "Epoch:   1 \t Training Loss: 1.64663 \t Training Accuracy: 0.32747 \t Validation Loss: 1.48228 \t Validation Accuracy: 0.41782\n"
     ]
    }
   ],
   "source": [
    "_, avg_training_loss, avg_training_accuracy, validation_loss, validation_accuracy = model1.train()"
   ]
  },
  {
   "cell_type": "code",
   "execution_count": null,
   "metadata": {},
   "outputs": [],
   "source": []
  },
  {
   "cell_type": "code",
   "execution_count": null,
   "metadata": {},
   "outputs": [],
   "source": [
    "test_loss, test_accuracy = model1.test()\n",
    "test_loss, test_accuracy"
   ]
  },
  {
   "cell_type": "markdown",
   "metadata": {},
   "source": [
    "## Training (All Layers)"
   ]
  },
  {
   "cell_type": "code",
   "execution_count": null,
   "metadata": {},
   "outputs": [],
   "source": [
    "unique_filename_model1_unfreeze_all = \"seqno5_model1_unfreeze_all_layer\"\n",
    "model2 = model.Model(\n",
    "    height=height,\n",
    "    width=width,\n",
    "    num_classes=len(classes),\n",
    "    lr=0.0001,\n",
    "    bs = 2,\n",
    "    rho = 0.9,\n",
    "    gamma_step = 0.5,\n",
    "    gamma = 0.9,\n",
    "    num_active_layers = 5,\n",
    "    free_all = False,\n",
    "    if_replace = True,\n",
    "    workers = 1,\n",
    "    epochs = 25,\n",
    "    mask = False,\n",
    "    unique_filename = unique_filename_model1_unfreeze_all,\n",
    "    model_type = 2,\n",
    "    model_weights_ref_path = f'models/{unique_filename_model1_unfreeze_1}/model.pth'\n",
    "    )"
   ]
  },
  {
   "cell_type": "code",
   "execution_count": null,
   "metadata": {},
   "outputs": [],
   "source": [
    "model2.construct_data(datasets)"
   ]
  },
  {
   "cell_type": "code",
   "execution_count": null,
   "metadata": {},
   "outputs": [],
   "source": [
    "_, avg_training_loss, avg_training_accuracy, validation_loss, validation_accuracy = model2.train()"
   ]
  },
  {
   "cell_type": "code",
   "execution_count": null,
   "metadata": {},
   "outputs": [],
   "source": [
    "test_loss, test_accuracy = model2.test()\n",
    "test_loss, test_accuracy"
   ]
  },
  {
   "cell_type": "markdown",
   "metadata": {},
   "source": [
    "# Model2 with mask"
   ]
  },
  {
   "cell_type": "markdown",
   "metadata": {},
   "source": [
    "## Collect Data (Mask)"
   ]
  },
  {
   "cell_type": "code",
   "execution_count": null,
   "metadata": {},
   "outputs": [],
   "source": [
    "plt.imshow(np.expand_dims(np.array(skin_tones[16]),axis = (0,1)))\n",
    "plt.show()"
   ]
  },
  {
   "cell_type": "code",
   "execution_count": null,
   "metadata": {},
   "outputs": [],
   "source": [
    "collector_masked = data.DataCollector(height, width, classes, mask_opts = {\"mask_size\":10,\"skintone_label\":15})\n",
    "datasets_masked = collector2.collect('data/trashnet', val_size=0.2, test_size=0.2)"
   ]
  },
  {
   "cell_type": "code",
   "execution_count": null,
   "metadata": {},
   "outputs": [],
   "source": [
    "model3 = model.Model(\n",
    "    height=height,\n",
    "    width=width,\n",
    "    num_classes=len(classes),\n",
    "    lr=0.001,\n",
    "    bs = 32,\n",
    "    rho = 0.9,\n",
    "    gamma_step = 0.5,\n",
    "    gamma = 0.9,\n",
    "    num_active_layers = 5,\n",
    "    if_replace = True,\n",
    "    workers = 1,\n",
    "    epochs = 25,\n",
    "    mask = True,\n",
    "    unique_filename = \"seqno5_model2\",\n",
    "    model_type = 2,\n",
    "    model_weights_ref_path = f'models/{unique_filename_model1_unfreeze_all}/model.pth'\n",
    "    )"
   ]
  },
  {
   "cell_type": "code",
   "execution_count": null,
   "metadata": {},
   "outputs": [],
   "source": [
    "model3.construct_data(datasets_masked)"
   ]
  },
  {
   "cell_type": "code",
   "execution_count": null,
   "metadata": {},
   "outputs": [],
   "source": [
    "_, avg_training_loss, avg_training_accuracy, validation_loss, validation_accuracy = model3.train()"
   ]
  },
  {
   "cell_type": "code",
   "execution_count": null,
   "metadata": {},
   "outputs": [],
   "source": [
    "test_loss, test_accuracy = model3.test()\n",
    "test_loss, test_accuracy"
   ]
  },
  {
   "cell_type": "code",
   "execution_count": null,
   "metadata": {},
   "outputs": [],
   "source": []
  }
 ],
 "metadata": {
  "kernelspec": {
   "display_name": "cos429 [~/.conda/envs/cos429/]",
   "language": "python",
   "name": "conda_cos429"
  },
  "language_info": {
   "codemirror_mode": {
    "name": "ipython",
    "version": 3
   },
   "file_extension": ".py",
   "mimetype": "text/x-python",
   "name": "python",
   "nbconvert_exporter": "python",
   "pygments_lexer": "ipython3",
   "version": "3.10.11"
  }
 },
 "nbformat": 4,
 "nbformat_minor": 4
}
