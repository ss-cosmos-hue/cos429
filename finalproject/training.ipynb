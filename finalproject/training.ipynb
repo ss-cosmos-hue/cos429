{
 "cells": [
  {
   "cell_type": "markdown",
   "metadata": {},
   "source": [
    "# Imports"
   ]
  },
  {
   "cell_type": "code",
   "execution_count": 1,
   "metadata": {},
   "outputs": [],
   "source": [
    "%load_ext autoreload\n",
    "%autoreload 2"
   ]
  },
  {
   "cell_type": "code",
   "execution_count": 2,
   "metadata": {},
   "outputs": [],
   "source": [
    "import model1\n",
    "import data\n",
    "import matplotlib.pyplot as plt\n",
    "import numpy as np\n",
    "from torchinfo import summary\n",
    "import torch"
   ]
  },
  {
   "cell_type": "code",
   "execution_count": 3,
   "metadata": {},
   "outputs": [
    {
     "data": {
      "text/plain": [
       "(34079637504, 0, 0, 0)"
      ]
     },
     "execution_count": 3,
     "metadata": {},
     "output_type": "execute_result"
    }
   ],
   "source": [
    "t = torch.cuda.get_device_properties(0).total_memory\n",
    "r = torch.cuda.memory_reserved(0)\n",
    "a = torch.cuda.memory_allocated(0)\n",
    "f = r-a  # free inside reserved\n",
    "t,r,a,f"
   ]
  },
  {
   "cell_type": "markdown",
   "metadata": {},
   "source": [
    "# Data"
   ]
  },
  {
   "cell_type": "markdown",
   "metadata": {},
   "source": [
    "## Configuration"
   ]
  },
  {
   "cell_type": "code",
   "execution_count": 4,
   "metadata": {},
   "outputs": [],
   "source": [
    "height = 512\n",
    "width = 384\n",
    "classes = {\"cardboard\":(0, 403),\n",
    "        \"glass\":(1, 501),\n",
    "        \"metal\":(2, 410),\n",
    "        \"paper\":(3, 594),\n",
    "        \"plastic\":(4, 482),\n",
    "        \"trash\":(5, 137)}\n",
    "skin_tones = {0:(41, 23, 9),#darker\n",
    "              1:(95, 51, 16),\n",
    "              2:(127, 68, 34),\n",
    "              3:(178, 102, 68),\n",
    "              4:(115, 63, 23),\n",
    "              5:(147, 95, 55),\n",
    "              6:(173, 138, 96),\n",
    "              7:(207, 150, 95),\n",
    "              8:(187, 101, 54),\n",
    "              9:(212, 158, 122),\n",
    "              11:(242, 194, 128),\n",
    "              12:(236, 192, 145),\n",
    "              13:(249, 212, 160),\n",
    "              14:(248, 217, 152),\n",
    "              15:(253, 231, 173),\n",
    "              16:(254, 227, 197)}#paler"
   ]
  },
  {
   "cell_type": "markdown",
   "metadata": {},
   "source": [
    "## Collection"
   ]
  },
  {
   "cell_type": "markdown",
   "metadata": {},
   "source": [
    "# Model 1"
   ]
  },
  {
   "cell_type": "markdown",
   "metadata": {},
   "source": [
    "### data load without mask"
   ]
  },
  {
   "cell_type": "code",
   "execution_count": 5,
   "metadata": {},
   "outputs": [
    {
     "name": "stdout",
     "output_type": "stream",
     "text": [
      "Store in X and y\n"
     ]
    }
   ],
   "source": [
    "collector = data.DataCollector(height, width, classes)\n",
    "datasets = collector.collect('trashnet/dataset-resized', val_size=0.2, test_size=0.2)"
   ]
  },
  {
   "cell_type": "code",
   "execution_count": 6,
   "metadata": {},
   "outputs": [
    {
     "data": {
      "text/plain": [
       "(34079637504, 0, 0, 0)"
      ]
     },
     "execution_count": 6,
     "metadata": {},
     "output_type": "execute_result"
    }
   ],
   "source": [
    "t = torch.cuda.get_device_properties(0).total_memory\n",
    "r = torch.cuda.memory_reserved(0)\n",
    "a = torch.cuda.memory_allocated(0)\n",
    "f = r-a  # free inside reserved\n",
    "t,r,a,f"
   ]
  },
  {
   "cell_type": "markdown",
   "metadata": {},
   "source": [
    "## Construction"
   ]
  },
  {
   "cell_type": "code",
   "execution_count": 7,
   "metadata": {},
   "outputs": [],
   "source": [
    "unique_filename_model1_unfreeze_1 = \"seqno5_model1_train_final_layer\""
   ]
  },
  {
   "cell_type": "code",
   "execution_count": 8,
   "metadata": {},
   "outputs": [],
   "source": [
    "model = model1.Model(\n",
    "    height=height,\n",
    "    width=width,\n",
    "    num_classes=len(classes),\n",
    "    lr=0.001,\n",
    "    bs = 64,\n",
    "    rho = 0.9,\n",
    "    gamma_step = 0.5,\n",
    "    gamma = 0.9,\n",
    "    num_active_layers = 5,\n",
    "    free_all = False,\n",
    "    if_replace = True,\n",
    "    workers = 1,\n",
    "    epochs = 25,\n",
    "    mask = False,\n",
    "    unique_filename = unique_filename_model1_unfreeze_1,\n",
    "    model_type = 1,\n",
    "    model_weights_ref_path = \"ResNet34_Weights.pth\"\n",
    "    )"
   ]
  },
  {
   "cell_type": "code",
   "execution_count": 9,
   "metadata": {},
   "outputs": [],
   "source": [
    "# summary(model.model, input_size=(model.batch_size, 3, model.height, model.width))"
   ]
  },
  {
   "cell_type": "code",
   "execution_count": 10,
   "metadata": {},
   "outputs": [],
   "source": [
    "model.construct_data(datasets)"
   ]
  },
  {
   "cell_type": "code",
   "execution_count": 11,
   "metadata": {},
   "outputs": [
    {
     "data": {
      "text/plain": [
       "(34079637504, 113246208, 86162944, 27083264)"
      ]
     },
     "execution_count": 11,
     "metadata": {},
     "output_type": "execute_result"
    }
   ],
   "source": [
    "t = torch.cuda.get_device_properties(0).total_memory\n",
    "r = torch.cuda.memory_reserved(0)\n",
    "a = torch.cuda.memory_allocated(0)\n",
    "f = r-a  # free inside reserved\n",
    "t,r,a,f"
   ]
  },
  {
   "cell_type": "markdown",
   "metadata": {},
   "source": [
    "## Training"
   ]
  },
  {
   "cell_type": "code",
   "execution_count": 12,
   "metadata": {},
   "outputs": [
    {
     "name": "stdout",
     "output_type": "stream",
     "text": [
      "Epoch:   1 \t Training Loss: 1.64592 \t Training Accuracy: 0.32185 \t Validation Loss: 1.46758 \t Validation Accuracy: 0.46733\n",
      "Epoch:   2 \t Training Loss: 1.34282 \t Training Accuracy: 0.50095 \t Validation Loss: 1.33091 \t Validation Accuracy: 0.49307\n",
      "Epoch:   3 \t Training Loss: 1.19584 \t Training Accuracy: 0.55605 \t Validation Loss: 1.27292 \t Validation Accuracy: 0.51485\n",
      "Epoch:   4 \t Training Loss: 1.08424 \t Training Accuracy: 0.62837 \t Validation Loss: 1.21966 \t Validation Accuracy: 0.53663\n",
      "Epoch:   5 \t Training Loss: 0.98190 \t Training Accuracy: 0.66945 \t Validation Loss: 1.18544 \t Validation Accuracy: 0.55644\n",
      "Epoch:   6 \t Training Loss: 0.89441 \t Training Accuracy: 0.71384 \t Validation Loss: 1.16064 \t Validation Accuracy: 0.54851\n",
      "Epoch:   7 \t Training Loss: 0.81022 \t Training Accuracy: 0.75823 \t Validation Loss: 1.14602 \t Validation Accuracy: 0.56436\n",
      "Epoch:   8 \t Training Loss: 0.73986 \t Training Accuracy: 0.78924 \t Validation Loss: 1.13736 \t Validation Accuracy: 0.56238\n",
      "Epoch:   9 \t Training Loss: 0.66963 \t Training Accuracy: 0.81605 \t Validation Loss: 1.11763 \t Validation Accuracy: 0.58416\n",
      "Epoch:  10 \t Training Loss: 0.60783 \t Training Accuracy: 0.85357 \t Validation Loss: 1.11281 \t Validation Accuracy: 0.58218\n",
      "Epoch:  11 \t Training Loss: 0.54718 \t Training Accuracy: 0.87713 \t Validation Loss: 1.10664 \t Validation Accuracy: 0.57822\n",
      "Epoch:  12 \t Training Loss: 0.49792 \t Training Accuracy: 0.89595 \t Validation Loss: 1.10160 \t Validation Accuracy: 0.57822\n",
      "Epoch:  13 \t Training Loss: 0.47346 \t Training Accuracy: 0.89986 \t Validation Loss: 1.10014 \t Validation Accuracy: 0.59010\n",
      "Epoch:  14 \t Training Loss: 0.43549 \t Training Accuracy: 0.92099 \t Validation Loss: 1.09539 \t Validation Accuracy: 0.58614\n",
      "Epoch:  15 \t Training Loss: 0.40227 \t Training Accuracy: 0.93478 \t Validation Loss: 1.09759 \t Validation Accuracy: 0.58614\n",
      "Epoch:  16 \t Training Loss: 0.37977 \t Training Accuracy: 0.93691 \t Validation Loss: 1.09378 \t Validation Accuracy: 0.59802\n",
      "Epoch:  17 \t Training Loss: 0.35372 \t Training Accuracy: 0.94892 \t Validation Loss: 1.09804 \t Validation Accuracy: 0.59604\n",
      "Epoch:  18 \t Training Loss: 0.33802 \t Training Accuracy: 0.95543 \t Validation Loss: 1.09866 \t Validation Accuracy: 0.59406\n",
      "Epoch:  19 \t Training Loss: 0.31881 \t Training Accuracy: 0.96165 \t Validation Loss: 1.09160 \t Validation Accuracy: 0.60198\n",
      "Epoch:  20 \t Training Loss: 0.30148 \t Training Accuracy: 0.97266 \t Validation Loss: 1.09032 \t Validation Accuracy: 0.59802\n",
      "Epoch:  21 \t Training Loss: 0.29433 \t Training Accuracy: 0.96555 \t Validation Loss: 1.09104 \t Validation Accuracy: 0.59208\n",
      "Epoch:  22 \t Training Loss: 0.28890 \t Training Accuracy: 0.97242 \t Validation Loss: 1.09263 \t Validation Accuracy: 0.60198\n",
      "Epoch:  23 \t Training Loss: 0.27929 \t Training Accuracy: 0.97135 \t Validation Loss: 1.09753 \t Validation Accuracy: 0.60198\n",
      "Epoch:  24 \t Training Loss: 0.26672 \t Training Accuracy: 0.97041 \t Validation Loss: 1.10028 \t Validation Accuracy: 0.60000\n",
      "Epoch:  25 \t Training Loss: 0.25126 \t Training Accuracy: 0.97562 \t Validation Loss: 1.09631 \t Validation Accuracy: 0.60000\n",
      "Finished Training\n"
     ]
    }
   ],
   "source": [
    "_, avg_training_loss, avg_training_accuracy, validation_loss, validation_accuracy = model.train()"
   ]
  },
  {
   "cell_type": "code",
   "execution_count": null,
   "metadata": {},
   "outputs": [],
   "source": []
  },
  {
   "cell_type": "code",
   "execution_count": 8,
   "metadata": {},
   "outputs": [
    {
     "data": {
      "text/plain": [
       "(1.2446285486221313, tensor(0.4980))"
      ]
     },
     "execution_count": 8,
     "metadata": {},
     "output_type": "execute_result"
    }
   ],
   "source": [
    "test_loss, test_accuracy = model.test()\n",
    "test_loss, test_accuracy"
   ]
  },
  {
   "cell_type": "code",
   "execution_count": 19,
   "metadata": {},
   "outputs": [
    {
     "data": {
      "text/plain": [
       "(34079637504, 32277266432, 30071296512, 2205969920)"
      ]
     },
     "execution_count": 19,
     "metadata": {},
     "output_type": "execute_result"
    }
   ],
   "source": [
    "t = torch.cuda.get_device_properties(0).total_memory\n",
    "r = torch.cuda.memory_reserved(0)\n",
    "a = torch.cuda.memory_allocated(0)\n",
    "f = r-a  # free inside reserved\n",
    "t,r,a,f"
   ]
  },
  {
   "cell_type": "code",
   "execution_count": 18,
   "metadata": {},
   "outputs": [],
   "source": [
    "import gc\n",
    "gc.collect()\n",
    "torch.cuda.empty_cache()"
   ]
  },
  {
   "cell_type": "markdown",
   "metadata": {},
   "source": [
    "## unfreeze all the weights"
   ]
  },
  {
   "cell_type": "code",
   "execution_count": 30,
   "metadata": {},
   "outputs": [],
   "source": [
    "unique_filename_model1_unfreeze_all = \"seqno5_model1_unfreeze_all_layer\"\n",
    "model = model1.Model(\n",
    "    height=height,\n",
    "    width=width,\n",
    "    num_classes=len(classes),\n",
    "    lr=0.0001,\n",
    "    bs = 2,\n",
    "    rho = 0.9,\n",
    "    gamma_step = 0.5,\n",
    "    gamma = 0.9,\n",
    "    num_active_layers = 5,#doesn't matter\n",
    "    free_all = False,\n",
    "    if_replace = True,\n",
    "    workers = 1,\n",
    "    epochs = 25,\n",
    "    mask = False,\n",
    "    unique_filename = unique_filename_model1_unfreeze_all,\n",
    "    model_type = 2,#the model to feed is  already modified to the num of class = 6\n",
    "    model_weights_ref_path = f'models/{unique_filename_model1_unfreeze_1}/model.pth'\n",
    "    )"
   ]
  },
  {
   "cell_type": "code",
   "execution_count": 31,
   "metadata": {},
   "outputs": [],
   "source": [
    "model.construct_data(datasets)"
   ]
  },
  {
   "cell_type": "code",
   "execution_count": 32,
   "metadata": {},
   "outputs": [
    {
     "ename": "OutOfMemoryError",
     "evalue": "CUDA out of memory. Tried to allocate 1.11 GiB (GPU 0; 31.74 GiB total capacity; 30.93 GiB already allocated; 238.88 MiB free; 31.05 GiB reserved in total by PyTorch) If reserved memory is >> allocated memory try setting max_split_size_mb to avoid fragmentation.  See documentation for Memory Management and PYTORCH_CUDA_ALLOC_CONF",
     "output_type": "error",
     "traceback": [
      "\u001b[0;31m---------------------------------------------------------------------------\u001b[0m",
      "\u001b[0;31mOutOfMemoryError\u001b[0m                          Traceback (most recent call last)",
      "Cell \u001b[0;32mIn[32], line 1\u001b[0m\n\u001b[0;32m----> 1\u001b[0m _, avg_training_loss, avg_training_accuracy, validation_loss, validation_accuracy \u001b[38;5;241m=\u001b[39m \u001b[43mmodel\u001b[49m\u001b[38;5;241;43m.\u001b[39;49m\u001b[43mtrain\u001b[49m\u001b[43m(\u001b[49m\u001b[43m)\u001b[49m\n",
      "File \u001b[0;32m/scratch/network/ss9295/final_project/model1.py:138\u001b[0m, in \u001b[0;36mModel.train\u001b[0;34m(self)\u001b[0m\n\u001b[1;32m    135\u001b[0m epoch_accuracy \u001b[38;5;241m=\u001b[39m []\n\u001b[1;32m    136\u001b[0m \u001b[38;5;28;01mfor\u001b[39;00m inputs, labels \u001b[38;5;129;01min\u001b[39;00m \u001b[38;5;28mself\u001b[39m\u001b[38;5;241m.\u001b[39mdataloaders[\u001b[38;5;124m'\u001b[39m\u001b[38;5;124mval\u001b[39m\u001b[38;5;124m'\u001b[39m]:\n\u001b[1;32m    137\u001b[0m     \u001b[38;5;66;03m# Specify device preference\u001b[39;00m\n\u001b[0;32m--> 138\u001b[0m     inputs \u001b[38;5;241m=\u001b[39m \u001b[43minputs\u001b[49m\u001b[38;5;241;43m.\u001b[39;49m\u001b[43mto\u001b[49m\u001b[43m(\u001b[49m\u001b[43mdevice\u001b[49m\u001b[43m)\u001b[49m\n\u001b[1;32m    139\u001b[0m     labels \u001b[38;5;241m=\u001b[39m labels\u001b[38;5;241m.\u001b[39mto(device)\n\u001b[1;32m    141\u001b[0m     \u001b[38;5;66;03m# Forward pass\u001b[39;00m\n",
      "\u001b[0;31mOutOfMemoryError\u001b[0m: CUDA out of memory. Tried to allocate 1.11 GiB (GPU 0; 31.74 GiB total capacity; 30.93 GiB already allocated; 238.88 MiB free; 31.05 GiB reserved in total by PyTorch) If reserved memory is >> allocated memory try setting max_split_size_mb to avoid fragmentation.  See documentation for Memory Management and PYTORCH_CUDA_ALLOC_CONF"
     ]
    }
   ],
   "source": [
    "\n",
    "_, avg_training_loss, avg_training_accuracy, validation_loss, validation_accuracy = model.train()"
   ]
  },
  {
   "cell_type": "code",
   "execution_count": null,
   "metadata": {},
   "outputs": [],
   "source": [
    "test_loss, test_accuracy = model.test()\n",
    "test_loss, test_accuracy"
   ]
  },
  {
   "cell_type": "markdown",
   "metadata": {},
   "source": [
    "# Model2 with mask"
   ]
  },
  {
   "cell_type": "markdown",
   "metadata": {},
   "source": [
    "## data collection with mask"
   ]
  },
  {
   "cell_type": "code",
   "execution_count": 33,
   "metadata": {},
   "outputs": [
    {
     "data": {
      "image/png": "[encoded data removed]",
      "text/plain": [
       "<Figure size 640x480 with 1 Axes>"
      ]
     },
     "metadata": {},
     "output_type": "display_data"
    }
   ],
   "source": [
    "plt.imshow(np.expand_dims(np.array(skin_tones[16]),axis = (0,1)))\n",
    "plt.show()"
   ]
  },
  {
   "cell_type": "code",
   "execution_count": 17,
   "metadata": {},
   "outputs": [
    {
     "name": "stdout",
     "output_type": "stream",
     "text": [
      "Store in X and y\n"
     ]
    }
   ],
   "source": [
    "collector2 = data.DataCollector(height, width, classes,\n",
    "                               mask_opts = {\"mask_size\":10,\"skintone_label\":15,\n",
    "                               })\n",
    "datasets2 = collector2.collect('trashnet/dataset-resized', val_size=0.2, test_size=0.2)"
   ]
  },
  {
   "cell_type": "code",
   "execution_count": 20,
   "metadata": {},
   "outputs": [],
   "source": [
    "model2 = model1.Model(\n",
    "    height=height,\n",
    "    width=width,\n",
    "    num_classes=len(classes),\n",
    "    lr=0.001,\n",
    "    bs = 32,\n",
    "    rho = 0.9,\n",
    "    gamma_step = 0.5,\n",
    "    gamma = 0.9,\n",
    "    num_active_layers = 5,\n",
    "    if_replace = True,\n",
    "    workers = 1,\n",
    "    epochs = 25,\n",
    "    mask = True,\n",
    "    unique_filename = \"seqno5_model2\",\n",
    "    model_type = 2,\n",
    "    model_weights_ref_path = f'models/{unique_filename_model1_unfreeze_all}/model.pth'\n",
    "    )"
   ]
  },
  {
   "cell_type": "code",
   "execution_count": 21,
   "metadata": {},
   "outputs": [],
   "source": [
    "model2.construct_data(datasets2)"
   ]
  },
  {
   "cell_type": "code",
   "execution_count": 22,
   "metadata": {},
   "outputs": [
    {
     "name": "stdout",
     "output_type": "stream",
     "text": [
      "Epoch:   1 \t Training Loss: 0.98364 \t Training Accuracy: 0.63429 \t Validation Loss: 1.19058 \t Validation Accuracy: 0.54653\n",
      "Epoch:   2 \t Training Loss: 0.64310 \t Training Accuracy: 0.79421 \t Validation Loss: 1.14307 \t Validation Accuracy: 0.56436\n",
      "Epoch:   3 \t Training Loss: 0.44638 \t Training Accuracy: 0.88855 \t Validation Loss: 1.13451 \t Validation Accuracy: 0.57822\n",
      "Epoch:   4 \t Training Loss: 0.31374 \t Training Accuracy: 0.94614 \t Validation Loss: 1.13639 \t Validation Accuracy: 0.60000\n",
      "Epoch:   5 \t Training Loss: 0.23369 \t Training Accuracy: 0.97508 \t Validation Loss: 1.14822 \t Validation Accuracy: 0.59010\n",
      "Epoch:   6 \t Training Loss: 0.17641 \t Training Accuracy: 0.98603 \t Validation Loss: 1.15478 \t Validation Accuracy: 0.59802\n",
      "Epoch:   7 \t Training Loss: 0.13240 \t Training Accuracy: 0.99094 \t Validation Loss: 1.17892 \t Validation Accuracy: 0.58812\n",
      "Epoch:   8 \t Training Loss: 0.11565 \t Training Accuracy: 0.99450 \t Validation Loss: 1.19440 \t Validation Accuracy: 0.59406\n",
      "Epoch:   9 \t Training Loss: 0.09807 \t Training Accuracy: 0.99674 \t Validation Loss: 1.18525 \t Validation Accuracy: 0.60000\n",
      "Epoch:  10 \t Training Loss: 0.07876 \t Training Accuracy: 0.99870 \t Validation Loss: 1.19132 \t Validation Accuracy: 0.59406\n",
      "Epoch:  11 \t Training Loss: 0.07895 \t Training Accuracy: 0.99870 \t Validation Loss: 1.20927 \t Validation Accuracy: 0.60000\n",
      "Epoch:  12 \t Training Loss: 0.06215 \t Training Accuracy: 0.99870 \t Validation Loss: 1.21082 \t Validation Accuracy: 0.59208\n",
      "Epoch:  13 \t Training Loss: 0.06103 \t Training Accuracy: 0.99935 \t Validation Loss: 1.21372 \t Validation Accuracy: 0.60000\n",
      "Epoch:  14 \t Training Loss: 0.05337 \t Training Accuracy: 1.00000 \t Validation Loss: 1.20963 \t Validation Accuracy: 0.59802\n",
      "Epoch:  15 \t Training Loss: 0.05325 \t Training Accuracy: 0.99935 \t Validation Loss: 1.22233 \t Validation Accuracy: 0.60000\n",
      "Epoch:  16 \t Training Loss: 0.05476 \t Training Accuracy: 1.00000 \t Validation Loss: 1.23106 \t Validation Accuracy: 0.60198\n",
      "Epoch:  17 \t Training Loss: 0.05400 \t Training Accuracy: 0.99935 \t Validation Loss: 1.22841 \t Validation Accuracy: 0.59406\n",
      "Epoch:  18 \t Training Loss: 0.04557 \t Training Accuracy: 0.99935 \t Validation Loss: 1.22532 \t Validation Accuracy: 0.59802\n",
      "Epoch:  19 \t Training Loss: 0.04650 \t Training Accuracy: 1.00000 \t Validation Loss: 1.22897 \t Validation Accuracy: 0.59208\n",
      "Epoch:  20 \t Training Loss: 0.04461 \t Training Accuracy: 0.99935 \t Validation Loss: 1.22923 \t Validation Accuracy: 0.59604\n",
      "Epoch:  21 \t Training Loss: 0.04764 \t Training Accuracy: 1.00000 \t Validation Loss: 1.23247 \t Validation Accuracy: 0.60198\n",
      "Epoch:  22 \t Training Loss: 0.04027 \t Training Accuracy: 1.00000 \t Validation Loss: 1.23850 \t Validation Accuracy: 0.59802\n",
      "Epoch:  23 \t Training Loss: 0.04254 \t Training Accuracy: 1.00000 \t Validation Loss: 1.23793 \t Validation Accuracy: 0.60396\n",
      "Epoch:  24 \t Training Loss: 0.04011 \t Training Accuracy: 1.00000 \t Validation Loss: 1.23858 \t Validation Accuracy: 0.60396\n",
      "Epoch:  25 \t Training Loss: 0.04124 \t Training Accuracy: 1.00000 \t Validation Loss: 1.24177 \t Validation Accuracy: 0.60000\n",
      "Finished Training\n"
     ]
    }
   ],
   "source": [
    "_, avg_training_loss, avg_training_accuracy, validation_loss, validation_accuracy = model2.train()"
   ]
  },
  {
   "cell_type": "code",
   "execution_count": 23,
   "metadata": {},
   "outputs": [
    {
     "data": {
      "text/plain": [
       "(1.2986149787902832, tensor(0.5751))"
      ]
     },
     "execution_count": 23,
     "metadata": {},
     "output_type": "execute_result"
    }
   ],
   "source": [
    "test_loss, test_accuracy = model2.test()\n",
    "test_loss, test_accuracy"
   ]
  },
  {
   "cell_type": "code",
   "execution_count": null,
   "metadata": {},
   "outputs": [],
   "source": []
  }
 ],
 "metadata": {
  "kernelspec": {
   "display_name": "iw [~/.conda/envs/iw/]",
   "language": "python",
   "name": "conda_iw"
  },
  "language_info": {
   "codemirror_mode": {
    "name": "ipython",
    "version": 3
   },
   "file_extension": ".py",
   "mimetype": "text/x-python",
   "name": "python",
   "nbconvert_exporter": "python",
   "pygments_lexer": "ipython3",
   "version": "3.10.11"
  }
 },
 "nbformat": 4,
 "nbformat_minor": 4
}
